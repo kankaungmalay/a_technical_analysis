{
 "cells": [
  {
   "cell_type": "markdown",
   "id": "82f3d7cf",
   "metadata": {},
   "source": [
    "Dataset: https://www.kaggle.com/datasets/loulouashley/nhsadmissions-and-gp-referrals\n",
    "\n",
    "Data Source: Quarterly Hospital Activity Data (https://www.england.nhs.uk/statistics/statistical-work-areas/hospital-activity/quarterly-hospital-activity/qar-data/)\n",
    "\n",
    "Kaggle original: https://www.kaggle.com/code/loulouashley/nhs-time-series-study-admissions-gp-referrals\n",
    "\n",
    "<< A random practice >>\n",
    "\n",
    "# NHS Admissions and GP referrals\n",
    "\n",
    "Type: Time series analysis"
   ]
  },
  {
   "cell_type": "code",
   "execution_count": 1,
   "id": "ae686c66",
   "metadata": {},
   "outputs": [],
   "source": [
    "# import libraries\n",
    "import numpy as np\n",
    "import pandas as pd\n",
    "import matplotlib.pylab as plt\n",
    "from datetime import datetime\n",
    "\n",
    "%matplotlib inline  \n",
    "from matplotlib.pylab import rcParams\n",
    "rcParams['figure.figsize'] = 10, 6\n",
    "import seaborn as sns\n",
    "\n",
    "from statsmodels.tsa.stattools import adfuller\n",
    "from statsmodels.tsa.stattools import acf, pacf\n",
    "from statsmodels.tsa.seasonal import seasonal_decompose\n",
    "from statsmodels.tsa.arima_model import ARIMA\n",
    "import statsmodels.api as sm\n",
    "import itertools\n"
   ]
  },
  {
   "cell_type": "code",
   "execution_count": 64,
   "id": "74d1a055",
   "metadata": {},
   "outputs": [],
   "source": [
    "df = pd.read_excel(\"NHS-Admissions.xls\")"
   ]
  },
  {
   "cell_type": "code",
   "execution_count": 70,
   "id": "aeaefc79",
   "metadata": {},
   "outputs": [],
   "source": [
    "# Checking % of missing values in columns\n",
    "def check_missing_values(df):\n",
    "    for col in df.columns:\n",
    "        pct_missing = np.mean(df[col].isnull())\n",
    "        print('{} - {}%'.format(col, round(pct_missing*100)))"
   ]
  },
  {
   "cell_type": "code",
   "execution_count": 65,
   "id": "fc3585e0",
   "metadata": {},
   "outputs": [
    {
     "data": {
      "text/html": [
       "<div>\n",
       "<style scoped>\n",
       "    .dataframe tbody tr th:only-of-type {\n",
       "        vertical-align: middle;\n",
       "    }\n",
       "\n",
       "    .dataframe tbody tr th {\n",
       "        vertical-align: top;\n",
       "    }\n",
       "\n",
       "    .dataframe thead th {\n",
       "        text-align: right;\n",
       "    }\n",
       "</style>\n",
       "<table border=\"1\" class=\"dataframe\">\n",
       "  <thead>\n",
       "    <tr style=\"text-align: right;\">\n",
       "      <th></th>\n",
       "      <th>Year</th>\n",
       "      <th>Month</th>\n",
       "      <th>Day</th>\n",
       "      <th>Specialty Code</th>\n",
       "      <th>Specialty Name</th>\n",
       "      <th>Decisions to Admit</th>\n",
       "      <th>Admissions</th>\n",
       "      <th>Failed to Attend</th>\n",
       "      <th>Removals</th>\n",
       "      <th>Deferred admissions</th>\n",
       "      <th>Patients Suspended</th>\n",
       "      <th>GP Referrals Made</th>\n",
       "      <th>Other Referrals Made</th>\n",
       "      <th>First Attendances Seen</th>\n",
       "      <th>First Attendances DNA</th>\n",
       "      <th>Subsequent Attendances Seen</th>\n",
       "      <th>Subsequent Attendances DNA</th>\n",
       "    </tr>\n",
       "  </thead>\n",
       "  <tbody>\n",
       "    <tr>\n",
       "      <th>0</th>\n",
       "      <td>2008</td>\n",
       "      <td>6</td>\n",
       "      <td>1</td>\n",
       "      <td>C_999</td>\n",
       "      <td>Total</td>\n",
       "      <td>1182425</td>\n",
       "      <td>1063433</td>\n",
       "      <td>23595</td>\n",
       "      <td>157446</td>\n",
       "      <td>43986</td>\n",
       "      <td>44532</td>\n",
       "      <td>2655581.000</td>\n",
       "      <td>1.462796e+06</td>\n",
       "      <td>3661937</td>\n",
       "      <td>343937</td>\n",
       "      <td>7854773</td>\n",
       "      <td>1000206</td>\n",
       "    </tr>\n",
       "    <tr>\n",
       "      <th>1</th>\n",
       "      <td>2008</td>\n",
       "      <td>9</td>\n",
       "      <td>1</td>\n",
       "      <td>C_999</td>\n",
       "      <td>Total</td>\n",
       "      <td>1199964</td>\n",
       "      <td>1087367</td>\n",
       "      <td>25920</td>\n",
       "      <td>156115</td>\n",
       "      <td>45368</td>\n",
       "      <td>42254</td>\n",
       "      <td>2643823.264</td>\n",
       "      <td>1.463597e+06</td>\n",
       "      <td>3731940</td>\n",
       "      <td>365462</td>\n",
       "      <td>7883778</td>\n",
       "      <td>1017999</td>\n",
       "    </tr>\n",
       "    <tr>\n",
       "      <th>2</th>\n",
       "      <td>2008</td>\n",
       "      <td>12</td>\n",
       "      <td>1</td>\n",
       "      <td>C_999</td>\n",
       "      <td>Total</td>\n",
       "      <td>1217895</td>\n",
       "      <td>1094776</td>\n",
       "      <td>25081</td>\n",
       "      <td>164242</td>\n",
       "      <td>50124</td>\n",
       "      <td>52006</td>\n",
       "      <td>2552289.424</td>\n",
       "      <td>1.470639e+06</td>\n",
       "      <td>3775186</td>\n",
       "      <td>368552</td>\n",
       "      <td>7969423</td>\n",
       "      <td>1021504</td>\n",
       "    </tr>\n",
       "    <tr>\n",
       "      <th>3</th>\n",
       "      <td>2008</td>\n",
       "      <td>3</td>\n",
       "      <td>1</td>\n",
       "      <td>C_999</td>\n",
       "      <td>Total</td>\n",
       "      <td>1229108</td>\n",
       "      <td>1116562</td>\n",
       "      <td>25313</td>\n",
       "      <td>163881</td>\n",
       "      <td>43875</td>\n",
       "      <td>38526</td>\n",
       "      <td>2716094.000</td>\n",
       "      <td>1.512271e+06</td>\n",
       "      <td>3784347</td>\n",
       "      <td>352345</td>\n",
       "      <td>8100045</td>\n",
       "      <td>1051220</td>\n",
       "    </tr>\n",
       "    <tr>\n",
       "      <th>4</th>\n",
       "      <td>2009</td>\n",
       "      <td>6</td>\n",
       "      <td>1</td>\n",
       "      <td>C_999</td>\n",
       "      <td>Total</td>\n",
       "      <td>1250250</td>\n",
       "      <td>1105491</td>\n",
       "      <td>24984</td>\n",
       "      <td>159466</td>\n",
       "      <td>42671</td>\n",
       "      <td>43105</td>\n",
       "      <td>2808565.000</td>\n",
       "      <td>1.560909e+06</td>\n",
       "      <td>3945308</td>\n",
       "      <td>367391</td>\n",
       "      <td>8195380</td>\n",
       "      <td>1007916</td>\n",
       "    </tr>\n",
       "  </tbody>\n",
       "</table>\n",
       "</div>"
      ],
      "text/plain": [
       "   Year  Month  Day Specialty Code Specialty Name  Decisions to Admit  \\\n",
       "0  2008      6    1          C_999          Total             1182425   \n",
       "1  2008      9    1          C_999          Total             1199964   \n",
       "2  2008     12    1          C_999          Total             1217895   \n",
       "3  2008      3    1          C_999          Total             1229108   \n",
       "4  2009      6    1          C_999          Total             1250250   \n",
       "\n",
       "   Admissions  Failed to Attend  Removals Deferred admissions  \\\n",
       "0     1063433             23595    157446               43986   \n",
       "1     1087367             25920    156115               45368   \n",
       "2     1094776             25081    164242               50124   \n",
       "3     1116562             25313    163881               43875   \n",
       "4     1105491             24984    159466               42671   \n",
       "\n",
       "  Patients Suspended   GP Referrals Made  Other Referrals Made  \\\n",
       "0               44532        2655581.000          1.462796e+06   \n",
       "1               42254        2643823.264          1.463597e+06   \n",
       "2               52006        2552289.424          1.470639e+06   \n",
       "3               38526        2716094.000          1.512271e+06   \n",
       "4               43105        2808565.000          1.560909e+06   \n",
       "\n",
       "   First Attendances Seen  First Attendances DNA  Subsequent Attendances Seen  \\\n",
       "0                 3661937                 343937                      7854773   \n",
       "1                 3731940                 365462                      7883778   \n",
       "2                 3775186                 368552                      7969423   \n",
       "3                 3784347                 352345                      8100045   \n",
       "4                 3945308                 367391                      8195380   \n",
       "\n",
       "   Subsequent Attendances DNA  \n",
       "0                     1000206  \n",
       "1                     1017999  \n",
       "2                     1021504  \n",
       "3                     1051220  \n",
       "4                     1007916  "
      ]
     },
     "execution_count": 65,
     "metadata": {},
     "output_type": "execute_result"
    }
   ],
   "source": [
    "df.head(5)"
   ]
  },
  {
   "cell_type": "code",
   "execution_count": 66,
   "id": "fcea473a",
   "metadata": {},
   "outputs": [
    {
     "data": {
      "text/plain": [
       "(48, 17)"
      ]
     },
     "execution_count": 66,
     "metadata": {},
     "output_type": "execute_result"
    }
   ],
   "source": [
    "df.shape"
   ]
  },
  {
   "cell_type": "markdown",
   "id": "5d67e226",
   "metadata": {},
   "source": [
    "There are 48 records(rows) and 17 cols in this dataset. "
   ]
  },
  {
   "cell_type": "code",
   "execution_count": 67,
   "id": "117b252e",
   "metadata": {},
   "outputs": [],
   "source": [
    "# combining Year, Month and Day varialbes as a new date variable\n",
    "df['Date'] = pd.to_datetime(df[['Year', 'Month', 'Day']], errors = 'coerce')\n",
    "df = df.sort_values(by = 'Date', ascending = True)"
   ]
  },
  {
   "cell_type": "code",
   "execution_count": 68,
   "id": "7d8f4cf1",
   "metadata": {},
   "outputs": [],
   "source": [
    "# drop the unnecessary columns\n",
    "df = df.drop(['Year','Month', 'Day'], axis = 1) "
   ]
  },
  {
   "cell_type": "code",
   "execution_count": 69,
   "id": "6f89dd49",
   "metadata": {},
   "outputs": [
    {
     "data": {
      "text/html": [
       "<div>\n",
       "<style scoped>\n",
       "    .dataframe tbody tr th:only-of-type {\n",
       "        vertical-align: middle;\n",
       "    }\n",
       "\n",
       "    .dataframe tbody tr th {\n",
       "        vertical-align: top;\n",
       "    }\n",
       "\n",
       "    .dataframe thead th {\n",
       "        text-align: right;\n",
       "    }\n",
       "</style>\n",
       "<table border=\"1\" class=\"dataframe\">\n",
       "  <thead>\n",
       "    <tr style=\"text-align: right;\">\n",
       "      <th></th>\n",
       "      <th>Specialty Code</th>\n",
       "      <th>Specialty Name</th>\n",
       "      <th>Decisions to Admit</th>\n",
       "      <th>Admissions</th>\n",
       "      <th>Failed to Attend</th>\n",
       "      <th>Removals</th>\n",
       "      <th>Deferred admissions</th>\n",
       "      <th>Patients Suspended</th>\n",
       "      <th>GP Referrals Made</th>\n",
       "      <th>Other Referrals Made</th>\n",
       "      <th>First Attendances Seen</th>\n",
       "      <th>First Attendances DNA</th>\n",
       "      <th>Subsequent Attendances Seen</th>\n",
       "      <th>Subsequent Attendances DNA</th>\n",
       "      <th>Date</th>\n",
       "    </tr>\n",
       "  </thead>\n",
       "  <tbody>\n",
       "    <tr>\n",
       "      <th>3</th>\n",
       "      <td>C_999</td>\n",
       "      <td>Total</td>\n",
       "      <td>1229108</td>\n",
       "      <td>1116562</td>\n",
       "      <td>25313</td>\n",
       "      <td>163881</td>\n",
       "      <td>43875</td>\n",
       "      <td>38526</td>\n",
       "      <td>2716094.000</td>\n",
       "      <td>1.512271e+06</td>\n",
       "      <td>3784347</td>\n",
       "      <td>352345</td>\n",
       "      <td>8100045</td>\n",
       "      <td>1051220</td>\n",
       "      <td>2008-03-01</td>\n",
       "    </tr>\n",
       "    <tr>\n",
       "      <th>0</th>\n",
       "      <td>C_999</td>\n",
       "      <td>Total</td>\n",
       "      <td>1182425</td>\n",
       "      <td>1063433</td>\n",
       "      <td>23595</td>\n",
       "      <td>157446</td>\n",
       "      <td>43986</td>\n",
       "      <td>44532</td>\n",
       "      <td>2655581.000</td>\n",
       "      <td>1.462796e+06</td>\n",
       "      <td>3661937</td>\n",
       "      <td>343937</td>\n",
       "      <td>7854773</td>\n",
       "      <td>1000206</td>\n",
       "      <td>2008-06-01</td>\n",
       "    </tr>\n",
       "    <tr>\n",
       "      <th>1</th>\n",
       "      <td>C_999</td>\n",
       "      <td>Total</td>\n",
       "      <td>1199964</td>\n",
       "      <td>1087367</td>\n",
       "      <td>25920</td>\n",
       "      <td>156115</td>\n",
       "      <td>45368</td>\n",
       "      <td>42254</td>\n",
       "      <td>2643823.264</td>\n",
       "      <td>1.463597e+06</td>\n",
       "      <td>3731940</td>\n",
       "      <td>365462</td>\n",
       "      <td>7883778</td>\n",
       "      <td>1017999</td>\n",
       "      <td>2008-09-01</td>\n",
       "    </tr>\n",
       "    <tr>\n",
       "      <th>2</th>\n",
       "      <td>C_999</td>\n",
       "      <td>Total</td>\n",
       "      <td>1217895</td>\n",
       "      <td>1094776</td>\n",
       "      <td>25081</td>\n",
       "      <td>164242</td>\n",
       "      <td>50124</td>\n",
       "      <td>52006</td>\n",
       "      <td>2552289.424</td>\n",
       "      <td>1.470639e+06</td>\n",
       "      <td>3775186</td>\n",
       "      <td>368552</td>\n",
       "      <td>7969423</td>\n",
       "      <td>1021504</td>\n",
       "      <td>2008-12-01</td>\n",
       "    </tr>\n",
       "    <tr>\n",
       "      <th>7</th>\n",
       "      <td>C_999</td>\n",
       "      <td>Total</td>\n",
       "      <td>1290450</td>\n",
       "      <td>1168811</td>\n",
       "      <td>25957</td>\n",
       "      <td>181311</td>\n",
       "      <td>46660</td>\n",
       "      <td>39622</td>\n",
       "      <td>2788045.000</td>\n",
       "      <td>1.564183e+06</td>\n",
       "      <td>4021017</td>\n",
       "      <td>390378</td>\n",
       "      <td>8605578</td>\n",
       "      <td>1083132</td>\n",
       "      <td>2009-03-01</td>\n",
       "    </tr>\n",
       "  </tbody>\n",
       "</table>\n",
       "</div>"
      ],
      "text/plain": [
       "  Specialty Code Specialty Name  Decisions to Admit  Admissions  \\\n",
       "3          C_999          Total             1229108     1116562   \n",
       "0          C_999          Total             1182425     1063433   \n",
       "1          C_999          Total             1199964     1087367   \n",
       "2          C_999          Total             1217895     1094776   \n",
       "7          C_999          Total             1290450     1168811   \n",
       "\n",
       "   Failed to Attend  Removals Deferred admissions Patients Suspended   \\\n",
       "3             25313    163881               43875               38526   \n",
       "0             23595    157446               43986               44532   \n",
       "1             25920    156115               45368               42254   \n",
       "2             25081    164242               50124               52006   \n",
       "7             25957    181311               46660               39622   \n",
       "\n",
       "   GP Referrals Made  Other Referrals Made  First Attendances Seen  \\\n",
       "3        2716094.000          1.512271e+06                 3784347   \n",
       "0        2655581.000          1.462796e+06                 3661937   \n",
       "1        2643823.264          1.463597e+06                 3731940   \n",
       "2        2552289.424          1.470639e+06                 3775186   \n",
       "7        2788045.000          1.564183e+06                 4021017   \n",
       "\n",
       "   First Attendances DNA  Subsequent Attendances Seen  \\\n",
       "3                 352345                      8100045   \n",
       "0                 343937                      7854773   \n",
       "1                 365462                      7883778   \n",
       "2                 368552                      7969423   \n",
       "7                 390378                      8605578   \n",
       "\n",
       "   Subsequent Attendances DNA       Date  \n",
       "3                     1051220 2008-03-01  \n",
       "0                     1000206 2008-06-01  \n",
       "1                     1017999 2008-09-01  \n",
       "2                     1021504 2008-12-01  \n",
       "7                     1083132 2009-03-01  "
      ]
     },
     "execution_count": 69,
     "metadata": {},
     "output_type": "execute_result"
    }
   ],
   "source": [
    "df.head(5)"
   ]
  },
  {
   "cell_type": "code",
   "execution_count": 71,
   "id": "689072e8",
   "metadata": {},
   "outputs": [
    {
     "name": "stdout",
     "output_type": "stream",
     "text": [
      "Specialty Code - 0%\n",
      "Specialty Name - 0%\n",
      "Decisions to Admit - 0%\n",
      "Admissions - 0%\n",
      "Failed to Attend - 0%\n",
      "Removals - 0%\n",
      "Deferred admissions - 0%\n",
      "Patients Suspended  - 0%\n",
      "GP Referrals Made - 0%\n",
      "Other Referrals Made - 0%\n",
      "First Attendances Seen - 0%\n",
      "First Attendances DNA - 0%\n",
      "Subsequent Attendances Seen - 0%\n",
      "Subsequent Attendances DNA - 0%\n",
      "Date - 0%\n"
     ]
    }
   ],
   "source": [
    "check_missing_values(df)"
   ]
  },
  {
   "cell_type": "code",
   "execution_count": 72,
   "id": "32bfcf9b",
   "metadata": {},
   "outputs": [
    {
     "data": {
      "text/plain": [
       "Specialty Code                         object\n",
       "Specialty Name                         object\n",
       "Decisions to Admit                      int64\n",
       "Admissions                              int64\n",
       "Failed to Attend                        int64\n",
       "Removals                                int64\n",
       "Deferred admissions                    object\n",
       "Patients Suspended                     object\n",
       "GP Referrals Made                     float64\n",
       "Other Referrals Made                  float64\n",
       "First Attendances Seen                  int64\n",
       "First Attendances DNA                   int64\n",
       "Subsequent Attendances Seen             int64\n",
       "Subsequent Attendances DNA              int64\n",
       "Date                           datetime64[ns]\n",
       "dtype: object"
      ]
     },
     "execution_count": 72,
     "metadata": {},
     "output_type": "execute_result"
    }
   ],
   "source": [
    "# checking the data types\n",
    "df.dtypes"
   ]
  },
  {
   "cell_type": "code",
   "execution_count": 73,
   "id": "0ec1d069",
   "metadata": {},
   "outputs": [
    {
     "data": {
      "text/plain": [
       "Specialty Code                  0\n",
       "Specialty Name                  0\n",
       "Decisions to Admit              0\n",
       "Admissions                      0\n",
       "Failed to Attend                0\n",
       "Removals                        0\n",
       "Deferred admissions            39\n",
       "Patients Suspended             39\n",
       "GP Referrals Made               0\n",
       "Other Referrals Made            0\n",
       "First Attendances Seen          0\n",
       "First Attendances DNA           0\n",
       "Subsequent Attendances Seen     0\n",
       "Subsequent Attendances DNA      0\n",
       "Date                            0\n",
       "dtype: int64"
      ]
     },
     "execution_count": 73,
     "metadata": {},
     "output_type": "execute_result"
    }
   ],
   "source": [
    "# checking zero values in each variable\n",
    "(df == 0).sum()"
   ]
  },
  {
   "cell_type": "markdown",
   "id": "6be2d4bd",
   "metadata": {},
   "source": [
    "In Deferred admissions and Patients Suspended columns, there are 39 rows(among 48 in total) with lack of data, so we're going to remove them from future analysis process. \n",
    "\n",
    "Further data analysis will perform on Numerical values only, so Specialty Code and Specialty Name columns are also going to drop. "
   ]
  },
  {
   "cell_type": "code",
   "execution_count": 74,
   "id": "65ebc866",
   "metadata": {},
   "outputs": [],
   "source": [
    "df_dropped = df.drop(['Patients Suspended ','Deferred admissions', 'Specialty Code', 'Specialty Name'], axis = 1) "
   ]
  },
  {
   "cell_type": "code",
   "execution_count": 75,
   "id": "c0fdf670",
   "metadata": {},
   "outputs": [
    {
     "data": {
      "text/plain": [
       "(48, 11)"
      ]
     },
     "execution_count": 75,
     "metadata": {},
     "output_type": "execute_result"
    }
   ],
   "source": [
    "df_dropped.shape"
   ]
  },
  {
   "cell_type": "code",
   "execution_count": 76,
   "id": "e843968c",
   "metadata": {},
   "outputs": [],
   "source": [
    "# cols = list(df_dropped.columns.values)\n",
    "# changing the order of the columns\n",
    "df_dropped = df_dropped[['Date', \n",
    " 'Decisions to Admit',\n",
    " 'Admissions',\n",
    " 'Failed to Attend',\n",
    " 'Removals',\n",
    " 'GP Referrals Made',\n",
    " 'Other Referrals Made',\n",
    " 'First Attendances Seen',\n",
    " 'First Attendances DNA',\n",
    " 'Subsequent Attendances Seen',\n",
    " 'Subsequent Attendances DNA']]"
   ]
  },
  {
   "cell_type": "code",
   "execution_count": 77,
   "id": "44de3ff3",
   "metadata": {},
   "outputs": [
    {
     "data": {
      "text/html": [
       "<div>\n",
       "<style scoped>\n",
       "    .dataframe tbody tr th:only-of-type {\n",
       "        vertical-align: middle;\n",
       "    }\n",
       "\n",
       "    .dataframe tbody tr th {\n",
       "        vertical-align: top;\n",
       "    }\n",
       "\n",
       "    .dataframe thead th {\n",
       "        text-align: right;\n",
       "    }\n",
       "</style>\n",
       "<table border=\"1\" class=\"dataframe\">\n",
       "  <thead>\n",
       "    <tr style=\"text-align: right;\">\n",
       "      <th></th>\n",
       "      <th>Date</th>\n",
       "      <th>Decisions to Admit</th>\n",
       "      <th>Admissions</th>\n",
       "      <th>Failed to Attend</th>\n",
       "      <th>Removals</th>\n",
       "      <th>GP Referrals Made</th>\n",
       "      <th>Other Referrals Made</th>\n",
       "      <th>First Attendances Seen</th>\n",
       "      <th>First Attendances DNA</th>\n",
       "      <th>Subsequent Attendances Seen</th>\n",
       "      <th>Subsequent Attendances DNA</th>\n",
       "    </tr>\n",
       "  </thead>\n",
       "  <tbody>\n",
       "    <tr>\n",
       "      <th>3</th>\n",
       "      <td>2008-03-01</td>\n",
       "      <td>1229108</td>\n",
       "      <td>1116562</td>\n",
       "      <td>25313</td>\n",
       "      <td>163881</td>\n",
       "      <td>2716094.000</td>\n",
       "      <td>1.512271e+06</td>\n",
       "      <td>3784347</td>\n",
       "      <td>352345</td>\n",
       "      <td>8100045</td>\n",
       "      <td>1051220</td>\n",
       "    </tr>\n",
       "    <tr>\n",
       "      <th>0</th>\n",
       "      <td>2008-06-01</td>\n",
       "      <td>1182425</td>\n",
       "      <td>1063433</td>\n",
       "      <td>23595</td>\n",
       "      <td>157446</td>\n",
       "      <td>2655581.000</td>\n",
       "      <td>1.462796e+06</td>\n",
       "      <td>3661937</td>\n",
       "      <td>343937</td>\n",
       "      <td>7854773</td>\n",
       "      <td>1000206</td>\n",
       "    </tr>\n",
       "    <tr>\n",
       "      <th>1</th>\n",
       "      <td>2008-09-01</td>\n",
       "      <td>1199964</td>\n",
       "      <td>1087367</td>\n",
       "      <td>25920</td>\n",
       "      <td>156115</td>\n",
       "      <td>2643823.264</td>\n",
       "      <td>1.463597e+06</td>\n",
       "      <td>3731940</td>\n",
       "      <td>365462</td>\n",
       "      <td>7883778</td>\n",
       "      <td>1017999</td>\n",
       "    </tr>\n",
       "    <tr>\n",
       "      <th>2</th>\n",
       "      <td>2008-12-01</td>\n",
       "      <td>1217895</td>\n",
       "      <td>1094776</td>\n",
       "      <td>25081</td>\n",
       "      <td>164242</td>\n",
       "      <td>2552289.424</td>\n",
       "      <td>1.470639e+06</td>\n",
       "      <td>3775186</td>\n",
       "      <td>368552</td>\n",
       "      <td>7969423</td>\n",
       "      <td>1021504</td>\n",
       "    </tr>\n",
       "    <tr>\n",
       "      <th>7</th>\n",
       "      <td>2009-03-01</td>\n",
       "      <td>1290450</td>\n",
       "      <td>1168811</td>\n",
       "      <td>25957</td>\n",
       "      <td>181311</td>\n",
       "      <td>2788045.000</td>\n",
       "      <td>1.564183e+06</td>\n",
       "      <td>4021017</td>\n",
       "      <td>390378</td>\n",
       "      <td>8605578</td>\n",
       "      <td>1083132</td>\n",
       "    </tr>\n",
       "  </tbody>\n",
       "</table>\n",
       "</div>"
      ],
      "text/plain": [
       "        Date  Decisions to Admit  Admissions  Failed to Attend  Removals  \\\n",
       "3 2008-03-01             1229108     1116562             25313    163881   \n",
       "0 2008-06-01             1182425     1063433             23595    157446   \n",
       "1 2008-09-01             1199964     1087367             25920    156115   \n",
       "2 2008-12-01             1217895     1094776             25081    164242   \n",
       "7 2009-03-01             1290450     1168811             25957    181311   \n",
       "\n",
       "   GP Referrals Made  Other Referrals Made  First Attendances Seen  \\\n",
       "3        2716094.000          1.512271e+06                 3784347   \n",
       "0        2655581.000          1.462796e+06                 3661937   \n",
       "1        2643823.264          1.463597e+06                 3731940   \n",
       "2        2552289.424          1.470639e+06                 3775186   \n",
       "7        2788045.000          1.564183e+06                 4021017   \n",
       "\n",
       "   First Attendances DNA  Subsequent Attendances Seen  \\\n",
       "3                 352345                      8100045   \n",
       "0                 343937                      7854773   \n",
       "1                 365462                      7883778   \n",
       "2                 368552                      7969423   \n",
       "7                 390378                      8605578   \n",
       "\n",
       "   Subsequent Attendances DNA  \n",
       "3                     1051220  \n",
       "0                     1000206  \n",
       "1                     1017999  \n",
       "2                     1021504  \n",
       "7                     1083132  "
      ]
     },
     "execution_count": 77,
     "metadata": {},
     "output_type": "execute_result"
    }
   ],
   "source": [
    "df_dropped.head(5)"
   ]
  },
  {
   "cell_type": "markdown",
   "id": "90403658",
   "metadata": {},
   "source": [
    "### Data cleaning is done."
   ]
  },
  {
   "cell_type": "code",
   "execution_count": 79,
   "id": "a63f3313",
   "metadata": {},
   "outputs": [
    {
     "data": {
      "text/plain": [
       "count    4.800000e+01\n",
       "mean     1.331726e+06\n",
       "std      1.274778e+05\n",
       "min      1.063433e+06\n",
       "25%      1.254063e+06\n",
       "50%      1.353638e+06\n",
       "75%      1.443568e+06\n",
       "max      1.493892e+06\n",
       "Name: Admissions, dtype: float64"
      ]
     },
     "execution_count": 79,
     "metadata": {},
     "output_type": "execute_result"
    }
   ],
   "source": [
    "df_dropped['Admissions'].describe()"
   ]
  },
  {
   "cell_type": "code",
   "execution_count": 82,
   "id": "a4488dd7",
   "metadata": {},
   "outputs": [
    {
     "data": {
      "text/plain": [
       "<AxesSubplot:>"
      ]
     },
     "execution_count": 82,
     "metadata": {},
     "output_type": "execute_result"
    },
    {
     "data": {
      "image/png": "[encoded data removed]",
      "text/plain": [
       "<Figure size 720x432 with 1 Axes>"
      ]
     },
     "metadata": {
      "needs_background": "light"
     },
     "output_type": "display_data"
    }
   ],
   "source": [
    "# detecting outliers\n",
    "df_dropped['Admissions'].plot(kind = 'box', vert = False)"
   ]
  },
  {
   "cell_type": "markdown",
   "id": "41bcb659",
   "metadata": {},
   "source": [
    "### Inpatient activity over Years"
   ]
  },
  {
   "cell_type": "code",
   "execution_count": 84,
   "id": "3cd75085",
   "metadata": {},
   "outputs": [
    {
     "data": {
      "image/png": "[encoded data removed]",
      "text/plain": [
       "<Figure size 720x432 with 1 Axes>"
      ]
     },
     "metadata": {
      "needs_background": "light"
     },
     "output_type": "display_data"
    }
   ],
   "source": [
    "# plot the inpatient activity over years\n",
    "plt.plot(df_dropped[\"Date\"], df_dropped[\"Decisions to Admit\"], label=\"Decisions to Admit\")\n",
    "plt.plot(df_dropped[\"Date\"], df_dropped[\"Admissions\"], label=\"Admissions\")\n",
    "plt.plot(df_dropped[\"Date\"], df_dropped[\"Failed to Attend\"], label=\"Failed to Attend\")\n",
    "plt.plot(df_dropped[\"Date\"], df_dropped[\"Removals\"], label=\"Removals\")\n",
    "plt.title(\" Inpatient activity over Years\")\n",
    "plt.xlabel(\"Year\")\n",
    "plt.ylabel(\"Inpatient activity\")\n",
    "plt.legend()\n",
    "\n",
    "plt.show()"
   ]
  },
  {
   "cell_type": "code",
   "execution_count": null,
   "id": "07ede8cf",
   "metadata": {},
   "outputs": [],
   "source": []
  }
 ],
 "metadata": {
  "kernelspec": {
   "display_name": "Python 3 (ipykernel)",
   "language": "python",
   "name": "python3"
  },
  "language_info": {
   "codemirror_mode": {
    "name": "ipython",
    "version": 3
   },
   "file_extension": ".py",
   "mimetype": "text/x-python",
   "name": "python",
   "nbconvert_exporter": "python",
   "pygments_lexer": "ipython3",
   "version": "3.9.7"
  }
 },
 "nbformat": 4,
 "nbformat_minor": 5
}
