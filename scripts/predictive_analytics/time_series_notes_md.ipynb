{
 "cells": [
  {
   "cell_type": "markdown",
   "id": "8160fedd",
   "metadata": {},
   "source": [
    "Time Series Analysis Vs Forecasting?"
   ]
  },
  {
   "cell_type": "markdown",
   "id": "46567ffd",
   "metadata": {},
   "source": [
    "How to do a Time Series Analysis?\n",
    "\n",
    "- Visualize the time series (trend, seasonality or random behaviour)\n",
    "- Stationarize the series\n",
    "    - Detrending\n",
    "    - Differencing (d), I in AR(I)MA\n",
    "    - Seasonality\n",
    "- Find optimal parameters (p, d, q) via ACF/PACF plot charts\n",
    "- Build the ARIMA model (lowest BIC and AIC)\n",
    "- Make prediction"
   ]
  },
  {
   "cell_type": "markdown",
   "id": "80c844bd",
   "metadata": {},
   "source": [
    "The series is stationarity, if it has\n",
    "- constant mean\n",
    "- constant variance\n",
    "- an autocovariance that does not depend on time."
   ]
  },
  {
   "cell_type": "code",
   "execution_count": null,
   "id": "b3fdd465",
   "metadata": {},
   "outputs": [],
   "source": []
  }
 ],
 "metadata": {
  "kernelspec": {
   "display_name": "Python 3 (ipykernel)",
   "language": "python",
   "name": "python3"
  },
  "language_info": {
   "codemirror_mode": {
    "name": "ipython",
    "version": 3
   },
   "file_extension": ".py",
   "mimetype": "text/x-python",
   "name": "python",
   "nbconvert_exporter": "python",
   "pygments_lexer": "ipython3",
   "version": "3.9.7"
  }
 },
 "nbformat": 4,
 "nbformat_minor": 5
}
