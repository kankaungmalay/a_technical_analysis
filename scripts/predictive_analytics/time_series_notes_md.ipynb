{
 "cells": [
  {
   "cell_type": "markdown",
   "id": "8160fedd",
   "metadata": {},
   "source": [
    "Time Series Analysis and Forecasting general notes"
   ]
  },
  {
   "cell_type": "markdown",
   "id": "46567ffd",
   "metadata": {},
   "source": [
    "How to do a Time Series Analysis?\n",
    "\n",
    "- Visualize the time series (trend, seasonality or random behaviour)\n",
    "- Stationarize the series\n",
    "    - Detrending\n",
    "    - Differencing (d), I in AR(I)MA\n",
    "    - Seasonality\n",
    "- Find optimal parameters (p, d, q) via ACF/PACF plot charts\n",
    "- Build the ARIMA model (lowest BIC and AIC)\n",
    "- Make prediction"
   ]
  },
  {
   "cell_type": "markdown",
   "id": "80c844bd",
   "metadata": {},
   "source": [
    "The series is stationarity, if it has\n",
    "- constant mean\n",
    "- constant variance\n",
    "- an autocovariance that does not depend on time."
   ]
  },
  {
   "cell_type": "markdown",
   "id": "cef0323f",
   "metadata": {},
   "source": [
    "Check stationarity using the following ways,\n",
    "- Plotting Rolling Statistics\n",
    "- Dickey-Fuller Test"
   ]
  },
  {
   "cell_type": "markdown",
   "id": "12c10262",
   "metadata": {},
   "source": [
    "How to make a Time Series Stationary?\n",
    "- estimate the trend and seasonality in the series and remove those from the series to get a stationary series\n",
    "- implement the statistical forecasting techniques on the series\n",
    "- convert the forecasted values into the original scale by applying trend and seasonality constraints back\n",
    "\n",
    "#### Estimating & Eliminating Trend\n",
    "transformation - to reduce trend (which penalize higher values more than smaller values)\n",
    "\n",
    "1) Estimate or model the trend and then remove it from the series by one of the following techniques, \n",
    "* Aggregation – taking average for a time period like monthly/weekly averages\n",
    "* Smoothing – taking rolling averages/estimates, i.e. considering the past few instances.\n",
    "    * Moving average / (exponentially) weighted moving average\n",
    "* Polynomial Fitting – fit a regression model\n",
    "\n",
    "2) Eliminating Trend and Seasonality\n",
    "- Differencing – taking the differece with a particular time lag\n",
    "    * first order\n",
    "    * second order\n",
    "    * third order\n",
    "- Decomposition – modeling both trend and seasonality and removing them from the model.\n",
    "\n",
    "\n",
    "There are various transformations to stationarize the data __\n",
    "\n",
    "- Deflation by CPI\n",
    "- Logarithmic\n",
    "- First Difference\n",
    "- Seasonal Difference\n",
    "- Seasonal Adjustment"
   ]
  },
  {
   "cell_type": "markdown",
   "id": "df2c2d1a",
   "metadata": {},
   "source": [
    "Forecasting a Time Series\n",
    "A series with significant dependence among values. Use some statistical models like ARIMA to forecast the data.\n",
    "ARIMA forecasting for a stationary time series => a linear (like a linear regression) equation\n",
    "- Number of AR (Auto-Regressive) terms (p) \\\n",
    "    if p is 5, the predictors for x(t) will be x(t-1)….x(t-5)\n",
    "- Number of MA (Moving Average) terms (q) \\\n",
    "    if q is 5, the predictors for x(t) will be e(t-1)….e(t-5) where e(i) is the difference between the moving average at ith instant and actual value.\n",
    "- Number of Differences (d) \\\n",
    "    the number of nonseasonal differences\n",
    "    \n",
    "to determine the value of ‘p’ and ‘q’...\n",
    "- Autocorrelation Function (ACF) \\\n",
    "    the correlation between the the TS with a lagged version of itself.\n",
    "- Partial Autocorrelation Function (PACF) \\\n",
    "    the correlation between the TS with a lagged version of itself but after eliminating the variations\n",
    "    \n",
    "    \n",
    "* p – The lag value where the PACF chart crosses the upper confidence interval for the first time.\n",
    "* q – The lag value where the ACF chart crosses the upper confidence interval for the first time."
   ]
  },
  {
   "cell_type": "markdown",
   "id": "fd45ac65",
   "metadata": {},
   "source": [
    "- AR Model\n",
    "- MA Model\n",
    "- Combined Model\n",
    "\n",
    "\n",
    "* Taking it back to original scale"
   ]
  },
  {
   "cell_type": "markdown",
   "id": "ed5c8886",
   "metadata": {},
   "source": [
    "Credits to original authors for these notes from many sources."
   ]
  },
  {
   "cell_type": "code",
   "execution_count": null,
   "id": "161a0e30",
   "metadata": {},
   "outputs": [],
   "source": []
  }
 ],
 "metadata": {
  "kernelspec": {
   "display_name": "Python 3 (ipykernel)",
   "language": "python",
   "name": "python3"
  },
  "language_info": {
   "codemirror_mode": {
    "name": "ipython",
    "version": 3
   },
   "file_extension": ".py",
   "mimetype": "text/x-python",
   "name": "python",
   "nbconvert_exporter": "python",
   "pygments_lexer": "ipython3",
   "version": "3.9.7"
  }
 },
 "nbformat": 4,
 "nbformat_minor": 5
}
