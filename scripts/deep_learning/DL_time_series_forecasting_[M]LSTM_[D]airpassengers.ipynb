{
 "cells": [
  {
   "cell_type": "markdown",
   "id": "08e3a960",
   "metadata": {},
   "source": [
    "Dataset: International Airline Passengers\n",
    "\n",
    "Model: LSTM, a type of recurrent neural networks(RNN)"
   ]
  },
  {
   "cell_type": "code",
   "execution_count": 1,
   "id": "3fdd1caa",
   "metadata": {},
   "outputs": [],
   "source": [
    "import warnings \n",
    "warnings.filterwarnings('ignore')\n",
    "\n",
    "import numpy as np\n",
    "import matplotlib.pyplot as plt\n",
    "import pandas as pd\n",
    "import seaborn as sns"
   ]
  },
  {
   "cell_type": "code",
   "execution_count": 5,
   "id": "ad042e78",
   "metadata": {},
   "outputs": [
    {
     "data": {
      "text/html": [
       "<div>\n",
       "<style scoped>\n",
       "    .dataframe tbody tr th:only-of-type {\n",
       "        vertical-align: middle;\n",
       "    }\n",
       "\n",
       "    .dataframe tbody tr th {\n",
       "        vertical-align: top;\n",
       "    }\n",
       "\n",
       "    .dataframe thead th {\n",
       "        text-align: right;\n",
       "    }\n",
       "</style>\n",
       "<table border=\"1\" class=\"dataframe\">\n",
       "  <thead>\n",
       "    <tr style=\"text-align: right;\">\n",
       "      <th></th>\n",
       "      <th>#Passengers</th>\n",
       "    </tr>\n",
       "    <tr>\n",
       "      <th>Month</th>\n",
       "      <th></th>\n",
       "    </tr>\n",
       "  </thead>\n",
       "  <tbody>\n",
       "    <tr>\n",
       "      <th>1949-01-01</th>\n",
       "      <td>112</td>\n",
       "    </tr>\n",
       "    <tr>\n",
       "      <th>1949-02-01</th>\n",
       "      <td>118</td>\n",
       "    </tr>\n",
       "    <tr>\n",
       "      <th>1949-03-01</th>\n",
       "      <td>132</td>\n",
       "    </tr>\n",
       "    <tr>\n",
       "      <th>1949-04-01</th>\n",
       "      <td>129</td>\n",
       "    </tr>\n",
       "    <tr>\n",
       "      <th>1949-05-01</th>\n",
       "      <td>121</td>\n",
       "    </tr>\n",
       "    <tr>\n",
       "      <th>...</th>\n",
       "      <td>...</td>\n",
       "    </tr>\n",
       "    <tr>\n",
       "      <th>1960-08-01</th>\n",
       "      <td>606</td>\n",
       "    </tr>\n",
       "    <tr>\n",
       "      <th>1960-09-01</th>\n",
       "      <td>508</td>\n",
       "    </tr>\n",
       "    <tr>\n",
       "      <th>1960-10-01</th>\n",
       "      <td>461</td>\n",
       "    </tr>\n",
       "    <tr>\n",
       "      <th>1960-11-01</th>\n",
       "      <td>390</td>\n",
       "    </tr>\n",
       "    <tr>\n",
       "      <th>1960-12-01</th>\n",
       "      <td>432</td>\n",
       "    </tr>\n",
       "  </tbody>\n",
       "</table>\n",
       "<p>144 rows × 1 columns</p>\n",
       "</div>"
      ],
      "text/plain": [
       "            #Passengers\n",
       "Month                  \n",
       "1949-01-01          112\n",
       "1949-02-01          118\n",
       "1949-03-01          132\n",
       "1949-04-01          129\n",
       "1949-05-01          121\n",
       "...                 ...\n",
       "1960-08-01          606\n",
       "1960-09-01          508\n",
       "1960-10-01          461\n",
       "1960-11-01          390\n",
       "1960-12-01          432\n",
       "\n",
       "[144 rows x 1 columns]"
      ]
     },
     "execution_count": 5,
     "metadata": {},
     "output_type": "execute_result"
    }
   ],
   "source": [
    "df = pd.read_csv('../../datasets/AirPassengers.csv')\n",
    "df['Month'] = pd.to_datetime(df['Month'])\n",
    "df.set_index('Month', inplace=True) \n",
    "df"
   ]
  },
  {
   "cell_type": "code",
   "execution_count": 6,
   "id": "be6a34d2",
   "metadata": {},
   "outputs": [
    {
     "name": "stdout",
     "output_type": "stream",
     "text": [
      "95 49\n"
     ]
    }
   ],
   "source": [
    "train_size = int(len(df) * 0.66)\n",
    "test_size = len(df) - train_size\n",
    "train, test = df[0:train_size], df[train_size:len(df)]\n",
    "print(len(train), len(test))"
   ]
  },
  {
   "cell_type": "markdown",
   "id": "a5bb2401",
   "metadata": {},
   "source": [
    "Rescaling the data is needed because of 'backpropagation' is applied to minimise the loss function"
   ]
  },
  {
   "cell_type": "code",
   "execution_count": 7,
   "id": "f8014efd",
   "metadata": {},
   "outputs": [],
   "source": [
    "from sklearn.preprocessing import RobustScaler\n",
    "\n",
    "\n",
    "transformer = RobustScaler()\n",
    "\n",
    "transformer = transformer.fit(train[['#Passengers']])\n",
    "\n",
    "train['#Passengers'] = transformer.transform(train[['#Passengers']])\n",
    "\n",
    "test['#Passengers'] = transformer.transform(test[['#Passengers']])"
   ]
  },
  {
   "cell_type": "code",
   "execution_count": 8,
   "id": "a69719f4",
   "metadata": {},
   "outputs": [],
   "source": [
    "def create_dataset(X, y, time_steps=1):\n",
    "    Xs, ys = [], []\n",
    "    for i in range(len(X) - time_steps):\n",
    "        v = X.iloc[i:(i + time_steps)].values\n",
    "        Xs.append(v)        \n",
    "        ys.append(y.iloc[i + time_steps])\n",
    "    return np.array(Xs), np.array(ys)"
   ]
  },
  {
   "cell_type": "code",
   "execution_count": 10,
   "id": "406bfb1f",
   "metadata": {},
   "outputs": [
    {
     "data": {
      "text/plain": [
       "(47,)"
      ]
     },
     "execution_count": 10,
     "metadata": {},
     "output_type": "execute_result"
    }
   ],
   "source": [
    "TIME_STEPS = 2\n",
    "X_train, y_train = create_dataset(train, train['#Passengers'], time_steps=TIME_STEPS)\n",
    "X_test, y_test = create_dataset(test, test['#Passengers'], time_steps=TIME_STEPS)\n",
    "y_test.shape"
   ]
  },
  {
   "cell_type": "code",
   "execution_count": 11,
   "id": "1b39e7a2",
   "metadata": {},
   "outputs": [
    {
     "data": {
      "text/plain": [
       "(93, 2, 1)"
      ]
     },
     "execution_count": 11,
     "metadata": {},
     "output_type": "execute_result"
    }
   ],
   "source": [
    "X_train.shape"
   ]
  },
  {
   "cell_type": "code",
   "execution_count": 12,
   "id": "cedeaefe",
   "metadata": {},
   "outputs": [
    {
     "name": "stdout",
     "output_type": "stream",
     "text": [
      "[[0.97272727]\n",
      " [1.05454545]] [[1.05454545]\n",
      " [0.92727273]] [[0.92727273]\n",
      " [1.42727273]] [[1.42727273]\n",
      " [1.35454545]] [[1.35454545]\n",
      " [1.41818182]] [[1.41818182]\n",
      " [2.02727273]] [[2.02727273]\n",
      " [2.41818182]] [[2.41818182]\n",
      " [2.43636364]] [[2.43636364]\n",
      " [1.86363636]] [[1.86363636]\n",
      " [1.34545455]] [[1.34545455]\n",
      " [0.96363636]] [[0.96363636]\n",
      " [1.24545455]] [[1.24545455]\n",
      " [1.28181818]] [[1.28181818]\n",
      " [1.08181818]] [[1.08181818]\n",
      " [1.48181818]] [[1.48181818]\n",
      " [1.35454545]] [[1.35454545]\n",
      " [1.49090909]] [[1.49090909]\n",
      " [2.14545455]] [[2.14545455]\n",
      " [2.65454545]] [[2.65454545]\n",
      " [2.78181818]] [[2.78181818]\n",
      " [1.86363636]] [[1.86363636]\n",
      " [1.45454545]] [[1.45454545]\n",
      " [1.00909091]] [[1.00909091]\n",
      " [1.25454545]] [[1.25454545]\n",
      " [1.46363636]] [[1.46363636]\n",
      " [1.3       ]] [[1.3       ]\n",
      " [1.88181818]] [[1.88181818]\n",
      " [1.79090909]] [[1.79090909]\n",
      " [2.00909091]] [[2.00909091]\n",
      " [2.48181818]] [[2.48181818]\n",
      " [3.17272727]] [[3.17272727]\n",
      " [3.27272727]] [[3.27272727]\n",
      " [2.4       ]] [[2.4       ]\n",
      " [1.89090909]] [[1.89090909]\n",
      " [1.48181818]] [[1.48181818]\n",
      " [1.87272727]] [[1.87272727]\n",
      " [1.98181818]] [[1.98181818]\n",
      " [1.74545455]] [[1.74545455]\n",
      " [2.        ]] [[2.        ]\n",
      " [2.38181818]] [[2.38181818]\n",
      " [2.48181818]] [[2.48181818]\n",
      " [3.05454545]] [[3.05454545]\n",
      " [3.84545455]] [[3.84545455]\n",
      " [3.7       ]] [[3.7       ]\n",
      " [2.80909091]] [[2.80909091]\n",
      " [2.38181818]] [[2.38181818]\n",
      " [1.73636364]]\n"
     ]
    }
   ],
   "source": [
    "print (*X_test)"
   ]
  },
  {
   "cell_type": "code",
   "execution_count": 13,
   "id": "774b71d2",
   "metadata": {},
   "outputs": [
    {
     "name": "stdout",
     "output_type": "stream",
     "text": [
      "0.9727272727272728 1.0545454545454545   -- to predict: 0.9272727272727272\n",
      "1.0545454545454545 0.9272727272727272   -- to predict: 1.4272727272727272\n",
      "0.9272727272727272 1.4272727272727272   -- to predict: 1.3545454545454545\n",
      "1.4272727272727272 1.3545454545454545   -- to predict: 1.4181818181818182\n",
      "1.3545454545454545 1.4181818181818182   -- to predict: 2.0272727272727273\n",
      "1.4181818181818182 2.0272727272727273   -- to predict: 2.418181818181818\n",
      "2.0272727272727273 2.418181818181818   -- to predict: 2.4363636363636365\n",
      "2.418181818181818 2.4363636363636365   -- to predict: 1.8636363636363635\n",
      "2.4363636363636365 1.8636363636363635   -- to predict: 1.3454545454545455\n",
      "1.8636363636363635 1.3454545454545455   -- to predict: 0.9636363636363636\n",
      "1.3454545454545455 0.9636363636363636   -- to predict: 1.2454545454545454\n",
      "0.9636363636363636 1.2454545454545454   -- to predict: 1.2818181818181817\n",
      "1.2454545454545454 1.2818181818181817   -- to predict: 1.0818181818181818\n",
      "1.2818181818181817 1.0818181818181818   -- to predict: 1.481818181818182\n",
      "1.0818181818181818 1.481818181818182   -- to predict: 1.3545454545454545\n",
      "1.481818181818182 1.3545454545454545   -- to predict: 1.490909090909091\n",
      "1.3545454545454545 1.490909090909091   -- to predict: 2.1454545454545455\n",
      "1.490909090909091 2.1454545454545455   -- to predict: 2.6545454545454548\n",
      "2.1454545454545455 2.6545454545454548   -- to predict: 2.7818181818181817\n",
      "2.6545454545454548 2.7818181818181817   -- to predict: 1.8636363636363635\n",
      "2.7818181818181817 1.8636363636363635   -- to predict: 1.4545454545454546\n",
      "1.8636363636363635 1.4545454545454546   -- to predict: 1.009090909090909\n",
      "1.4545454545454546 1.009090909090909   -- to predict: 1.2545454545454546\n",
      "1.009090909090909 1.2545454545454546   -- to predict: 1.4636363636363636\n",
      "1.2545454545454546 1.4636363636363636   -- to predict: 1.3\n",
      "1.4636363636363636 1.3   -- to predict: 1.8818181818181818\n",
      "1.3 1.8818181818181818   -- to predict: 1.790909090909091\n",
      "1.8818181818181818 1.790909090909091   -- to predict: 2.0090909090909093\n",
      "1.790909090909091 2.0090909090909093   -- to predict: 2.481818181818182\n",
      "2.0090909090909093 2.481818181818182   -- to predict: 3.172727272727273\n",
      "2.481818181818182 3.172727272727273   -- to predict: 3.272727272727273\n",
      "3.172727272727273 3.272727272727273   -- to predict: 2.4\n",
      "3.272727272727273 2.4   -- to predict: 1.8909090909090909\n",
      "2.4 1.8909090909090909   -- to predict: 1.481818181818182\n",
      "1.8909090909090909 1.481818181818182   -- to predict: 1.8727272727272728\n",
      "1.481818181818182 1.8727272727272728   -- to predict: 1.981818181818182\n",
      "1.8727272727272728 1.981818181818182   -- to predict: 1.7454545454545454\n",
      "1.981818181818182 1.7454545454545454   -- to predict: 2.0\n",
      "1.7454545454545454 2.0   -- to predict: 2.381818181818182\n",
      "2.0 2.381818181818182   -- to predict: 2.481818181818182\n",
      "2.381818181818182 2.481818181818182   -- to predict: 3.0545454545454547\n",
      "2.481818181818182 3.0545454545454547   -- to predict: 3.8454545454545452\n",
      "3.0545454545454547 3.8454545454545452   -- to predict: 3.7\n",
      "3.8454545454545452 3.7   -- to predict: 2.809090909090909\n",
      "3.7 2.809090909090909   -- to predict: 2.381818181818182\n",
      "2.809090909090909 2.381818181818182   -- to predict: 1.7363636363636363\n",
      "2.381818181818182 1.7363636363636363   -- to predict: 2.118181818181818\n"
     ]
    }
   ],
   "source": [
    "c = 0\n",
    "for i in X_test:\n",
    "    for j in i:\n",
    "        for val in j:\n",
    "            print(val,  end = ' ')\n",
    "\n",
    "    print(end =\" \") # this is just to add the next printing in the same line\n",
    "    print (\" -- to predict:\", y_test[c])\n",
    "    c = c+1"
   ]
  },
  {
   "cell_type": "code",
   "execution_count": 14,
   "id": "4a67a930",
   "metadata": {},
   "outputs": [],
   "source": [
    "import tensorflow as tf\n",
    "from tensorflow import keras\n",
    "\n",
    "model = keras.Sequential()\n",
    "model.add(\n",
    "  keras.layers.Bidirectional(\n",
    "    keras.layers.LSTM(\n",
    "      units=128, \n",
    "      input_shape=(X_train.shape[1], X_train.shape[2])\n",
    "    )\n",
    "  )\n",
    ")\n",
    "model.add(keras.layers.Dropout(rate=0.2))\n",
    "model.add(keras.layers.Dense(units=1))\n",
    "model.compile(loss='mean_squared_error', optimizer='adam')"
   ]
  },
  {
   "cell_type": "code",
   "execution_count": 15,
   "id": "99a8c151",
   "metadata": {},
   "outputs": [
    {
     "name": "stdout",
     "output_type": "stream",
     "text": [
      "Epoch 1/30\n",
      "5/5 [==============================] - 12s 167ms/step - loss: 0.2789 - val_loss: 1.5170\n",
      "Epoch 2/30\n",
      "5/5 [==============================] - 0s 18ms/step - loss: 0.2300 - val_loss: 1.2379\n",
      "Epoch 3/30\n",
      "5/5 [==============================] - 0s 19ms/step - loss: 0.1886 - val_loss: 0.9788\n",
      "Epoch 4/30\n",
      "5/5 [==============================] - 0s 19ms/step - loss: 0.1532 - val_loss: 0.7460\n",
      "Epoch 5/30\n",
      "5/5 [==============================] - 0s 17ms/step - loss: 0.1240 - val_loss: 0.5444\n",
      "Epoch 6/30\n",
      "5/5 [==============================] - 0s 17ms/step - loss: 0.0986 - val_loss: 0.3809\n",
      "Epoch 7/30\n",
      "5/5 [==============================] - 0s 16ms/step - loss: 0.0800 - val_loss: 0.2635\n",
      "Epoch 8/30\n",
      "5/5 [==============================] - 0s 15ms/step - loss: 0.0666 - val_loss: 0.1950\n",
      "Epoch 9/30\n",
      "5/5 [==============================] - 0s 16ms/step - loss: 0.0591 - val_loss: 0.1680\n",
      "Epoch 10/30\n",
      "5/5 [==============================] - 0s 16ms/step - loss: 0.0548 - val_loss: 0.1625\n",
      "Epoch 11/30\n",
      "5/5 [==============================] - 0s 15ms/step - loss: 0.0530 - val_loss: 0.1609\n",
      "Epoch 12/30\n",
      "5/5 [==============================] - 0s 15ms/step - loss: 0.0537 - val_loss: 0.1590\n",
      "Epoch 13/30\n",
      "5/5 [==============================] - 0s 15ms/step - loss: 0.0526 - val_loss: 0.1585\n",
      "Epoch 14/30\n",
      "5/5 [==============================] - 0s 14ms/step - loss: 0.0499 - val_loss: 0.1604\n",
      "Epoch 15/30\n",
      "5/5 [==============================] - 0s 16ms/step - loss: 0.0496 - val_loss: 0.1633\n",
      "Epoch 16/30\n",
      "5/5 [==============================] - 0s 16ms/step - loss: 0.0495 - val_loss: 0.1641\n",
      "Epoch 17/30\n",
      "5/5 [==============================] - 0s 17ms/step - loss: 0.0518 - val_loss: 0.1628\n",
      "Epoch 18/30\n",
      "5/5 [==============================] - 0s 15ms/step - loss: 0.0484 - val_loss: 0.1601\n",
      "Epoch 19/30\n",
      "5/5 [==============================] - 0s 13ms/step - loss: 0.0465 - val_loss: 0.1559\n",
      "Epoch 20/30\n",
      "5/5 [==============================] - 0s 14ms/step - loss: 0.0487 - val_loss: 0.1524\n",
      "Epoch 21/30\n",
      "5/5 [==============================] - 0s 16ms/step - loss: 0.0468 - val_loss: 0.1514\n",
      "Epoch 22/30\n",
      "5/5 [==============================] - 0s 15ms/step - loss: 0.0478 - val_loss: 0.1519\n",
      "Epoch 23/30\n",
      "5/5 [==============================] - 0s 15ms/step - loss: 0.0473 - val_loss: 0.1522\n",
      "Epoch 24/30\n",
      "5/5 [==============================] - 0s 14ms/step - loss: 0.0473 - val_loss: 0.1512\n",
      "Epoch 25/30\n",
      "5/5 [==============================] - 0s 15ms/step - loss: 0.0451 - val_loss: 0.1518\n",
      "Epoch 26/30\n",
      "5/5 [==============================] - 0s 20ms/step - loss: 0.0472 - val_loss: 0.1516\n",
      "Epoch 27/30\n",
      "5/5 [==============================] - 0s 19ms/step - loss: 0.0467 - val_loss: 0.1502\n",
      "Epoch 28/30\n",
      "5/5 [==============================] - 0s 18ms/step - loss: 0.0439 - val_loss: 0.1501\n",
      "Epoch 29/30\n",
      "5/5 [==============================] - 0s 15ms/step - loss: 0.0441 - val_loss: 0.1513\n",
      "Epoch 30/30\n",
      "5/5 [==============================] - 0s 13ms/step - loss: 0.0440 - val_loss: 0.1513\n"
     ]
    }
   ],
   "source": [
    "history = model.fit(\n",
    "    X_train, y_train, \n",
    "    epochs=30, \n",
    "    batch_size=20, \n",
    "    validation_split=0.1,\n",
    "    shuffle=False\n",
    ")"
   ]
  },
  {
   "cell_type": "code",
   "execution_count": 16,
   "id": "18f8a734",
   "metadata": {},
   "outputs": [
    {
     "data": {
      "text/plain": [
       "<matplotlib.legend.Legend at 0x2a43e030730>"
      ]
     },
     "execution_count": 16,
     "metadata": {},
     "output_type": "execute_result"
    },
    {
     "data": {
      "image/png": "[encoded data removed]",
      "text/plain": [
       "<Figure size 432x288 with 1 Axes>"
      ]
     },
     "metadata": {
      "needs_background": "light"
     },
     "output_type": "display_data"
    }
   ],
   "source": [
    "plt.plot(history.history['loss'], label='train')\n",
    "plt.plot(history.history['val_loss'], label='test')\n",
    "plt.legend()"
   ]
  },
  {
   "cell_type": "code",
   "execution_count": 17,
   "id": "a493f42d",
   "metadata": {},
   "outputs": [],
   "source": [
    "y_pred = model.predict(X_test)"
   ]
  },
  {
   "cell_type": "code",
   "execution_count": 19,
   "id": "aeb9155f",
   "metadata": {},
   "outputs": [],
   "source": [
    "y_train_inv = transformer.inverse_transform(y_train.reshape(1, -1))\n",
    "y_test_inv = transformer.inverse_transform(y_test.reshape(1, -1))\n",
    "y_pred_inv = transformer.inverse_transform(y_pred)"
   ]
  },
  {
   "cell_type": "code",
   "execution_count": 20,
   "id": "a188bc31",
   "metadata": {},
   "outputs": [
    {
     "data": {
      "image/png": "[encoded data removed]",
      "text/plain": [
       "<Figure size 432x288 with 1 Axes>"
      ]
     },
     "metadata": {
      "needs_background": "light"
     },
     "output_type": "display_data"
    }
   ],
   "source": [
    "plt.plot(np.arange(0, len(y_train)), y_train_inv.flatten(), 'g', label=\"history\")\n",
    "plt.plot(np.arange(len(y_train), len(y_train) + len(y_test)), y_test_inv.flatten(), marker='.', label=\"true\")\n",
    "plt.plot(np.arange(len(y_train), len(y_train) + len(y_test)), y_pred_inv.flatten(), 'r', label=\"prediction\")\n",
    "plt.ylabel('Passengers')\n",
    "plt.xlabel('Time Step')\n",
    "plt.legend()\n",
    "plt.show()"
   ]
  },
  {
   "cell_type": "code",
   "execution_count": 21,
   "id": "c5460da0",
   "metadata": {},
   "outputs": [
    {
     "data": {
      "image/png": "[encoded data removed]",
      "text/plain": [
       "<Figure size 432x288 with 1 Axes>"
      ]
     },
     "metadata": {
      "needs_background": "light"
     },
     "output_type": "display_data"
    },
    {
     "name": "stdout",
     "output_type": "stream",
     "text": [
      "-----------------------------------------------------------\n",
      "-----------------------------------------------------------\n",
      "RMSE value on validation set: 75.879121899987\n"
     ]
    }
   ],
   "source": [
    "plt.plot(y_test_inv.flatten(), marker='.', label=\"true\")\n",
    "plt.plot(y_pred_inv.flatten(), 'r', label=\"prediction\")\n",
    "plt.ylabel('Passengers')\n",
    "plt.xlabel('Time Step')\n",
    "plt.legend()\n",
    "plt.show()\n",
    "rmse=np.sqrt(np.mean(np.power((np.array(y_test_inv.flatten() - y_pred_inv.flatten())),2)))\n",
    "\n",
    "print('-----------------------------------------------------------')\n",
    "print('-----------------------------------------------------------')\n",
    "print('RMSE value on validation set:',rmse)"
   ]
  },
  {
   "cell_type": "code",
   "execution_count": 22,
   "id": "16323420",
   "metadata": {},
   "outputs": [
    {
     "name": "stdout",
     "output_type": "stream",
     "text": [
      "Test Score: 75.88 RMSE\n"
     ]
    }
   ],
   "source": [
    "import math\n",
    "from sklearn.metrics import mean_squared_error\n",
    "testScore = math.sqrt(mean_squared_error(y_test_inv.flatten(), y_pred_inv.flatten()))\n",
    "print('Test Score: %.2f RMSE' % (testScore))"
   ]
  },
  {
   "cell_type": "code",
   "execution_count": 23,
   "id": "4787d7cd",
   "metadata": {},
   "outputs": [
    {
     "name": "stdout",
     "output_type": "stream",
     "text": [
      "R2 score is:  0.032535026922948185\n"
     ]
    }
   ],
   "source": [
    "from sklearn.metrics import r2_score\n",
    "score = r2_score(y_test_inv.flatten(), y_pred_inv.flatten())\n",
    "print(\"R2 score is: \", score)"
   ]
  },
  {
   "cell_type": "markdown",
   "id": "47a186c8",
   "metadata": {},
   "source": [
    "Notice: This is a practice of time series forecasting on the LSTM model. Some code chunks are the adapted ones. Credits to original author."
   ]
  },
  {
   "cell_type": "code",
   "execution_count": null,
   "id": "c01ceea7",
   "metadata": {},
   "outputs": [],
   "source": []
  }
 ],
 "metadata": {
  "kernelspec": {
   "display_name": "Python 3 (ipykernel)",
   "language": "python",
   "name": "python3"
  },
  "language_info": {
   "codemirror_mode": {
    "name": "ipython",
    "version": 3
   },
   "file_extension": ".py",
   "mimetype": "text/x-python",
   "name": "python",
   "nbconvert_exporter": "python",
   "pygments_lexer": "ipython3",
   "version": "3.9.7"
  }
 },
 "nbformat": 4,
 "nbformat_minor": 5
}
