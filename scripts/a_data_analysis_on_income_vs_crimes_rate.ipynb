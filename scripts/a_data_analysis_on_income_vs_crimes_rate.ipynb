{
 "cells": [
  {
   "cell_type": "code",
   "execution_count": 1,
   "id": "5ab1d4ca",
   "metadata": {},
   "outputs": [
    {
     "name": "stdout",
     "output_type": "stream",
     "text": [
      "3.9.7\n"
     ]
    }
   ],
   "source": [
    "# checking python version\n",
    "from platform import python_version\n",
    "print(python_version())"
   ]
  },
  {
   "cell_type": "markdown",
   "id": "267123f7",
   "metadata": {},
   "source": [
    "### Data Analysis Plan\n",
    "- hypotheses \n",
    "    - Testing the hypothesis that household income has no effect on levels of bias crime\n",
    "    - Testing the hypothesis that urbanisation has a significant effect on levels of bias crimes\n",
    "- dataset(s) \n",
    "    - shared_data.csv\n",
    "    - crimes.csv\n",
    "- inclusion/exclusion criteria \n",
    "    - the whole dataset will be used\n",
    "    - ...\n",
    "- variables to be used in the main analysis, \n",
    "    - avg_biascrimes_per_100k\n",
    "    - median_household_income\n",
    "    - share_population_in_metro_areas\n",
    "- plan on what to do with missing data, \n",
    "    - drop every row (axis=0) which has \"any\" Null value in it.\n",
    "- key tables and summary statistics (univariable, bivariable, and grouping variables), \n",
    "- suitable graphs to include, and, \n",
    "    - boxplots\n",
    "    - scatter plots (regplot)\n",
    "- statistical methods and software to be used.\n",
    "    - Pandas, Matplotlib, and Seaborn libraries ..\n",
    "    - Pearson’s Correlation Coefficient\n",
    "    - Log transformation\n",
    "    - ..."
   ]
  },
  {
   "cell_type": "markdown",
   "id": "c0dc24e8",
   "metadata": {},
   "source": [
    "### Reading CSV data from two files and merge them into a single df"
   ]
  },
  {
   "cell_type": "code",
   "execution_count": 2,
   "id": "93f8fd2c",
   "metadata": {},
   "outputs": [],
   "source": [
    "# import packages\n",
    "import pandas as pd # for data analysis\n",
    "import numpy as np # for mathematical and logical operations\n",
    "\n",
    "import seaborn as sns # for Data visualization\n",
    "import matplotlib.pyplot as plt # for Data visualization\n",
    "import matplotlib\n",
    "%matplotlib inline\n",
    "matplotlib.rcParams['figure.figsize'] = (10,6)\n",
    "\n",
    "from scipy.stats import pearsonr"
   ]
  },
  {
   "cell_type": "code",
   "execution_count": 3,
   "id": "934fee32",
   "metadata": {},
   "outputs": [
    {
     "data": {
      "text/plain": [
       "(51, 11)"
      ]
     },
     "execution_count": 3,
     "metadata": {},
     "output_type": "execute_result"
    }
   ],
   "source": [
    "# load datasets\n",
    "df_t2a = pd.read_csv(\"datasets/shared_data.csv\")\n",
    "df_t2b = pd.read_csv(\"datasets/crimes.csv\")\n",
    "\n",
    "# merge loaded dataframe using merge() function\n",
    "df_merged = df_t2a.merge(df_t2b)\n",
    "\n",
    "# check the updated rows and columns count of the merged dataframe\n",
    "df_merged.shape"
   ]
  },
  {
   "cell_type": "code",
   "execution_count": 4,
   "id": "7145de5e",
   "metadata": {},
   "outputs": [
    {
     "data": {
      "text/html": [
       "<div>\n",
       "<style scoped>\n",
       "    .dataframe tbody tr th:only-of-type {\n",
       "        vertical-align: middle;\n",
       "    }\n",
       "\n",
       "    .dataframe tbody tr th {\n",
       "        vertical-align: top;\n",
       "    }\n",
       "\n",
       "    .dataframe thead th {\n",
       "        text-align: right;\n",
       "    }\n",
       "</style>\n",
       "<table border=\"1\" class=\"dataframe\">\n",
       "  <thead>\n",
       "    <tr style=\"text-align: right;\">\n",
       "      <th></th>\n",
       "      <th>region</th>\n",
       "      <th>median_household_income</th>\n",
       "      <th>share_unemployed_seasonal</th>\n",
       "      <th>share_population_in_metro_areas</th>\n",
       "      <th>share_population_with_high_school_degree</th>\n",
       "      <th>share_non_citizen</th>\n",
       "      <th>share_white_poverty</th>\n",
       "      <th>gini_index</th>\n",
       "      <th>share_non_white</th>\n",
       "      <th>share_voters_voted_to_the_right</th>\n",
       "      <th>avg_biascrimes_per_100k</th>\n",
       "    </tr>\n",
       "  </thead>\n",
       "  <tbody>\n",
       "    <tr>\n",
       "      <th>0</th>\n",
       "      <td>1</td>\n",
       "      <td>42278</td>\n",
       "      <td>0.060</td>\n",
       "      <td>0.64</td>\n",
       "      <td>0.821</td>\n",
       "      <td>0.02</td>\n",
       "      <td>0.12</td>\n",
       "      <td>0.472</td>\n",
       "      <td>0.35</td>\n",
       "      <td>0.63</td>\n",
       "      <td>1.806410</td>\n",
       "    </tr>\n",
       "    <tr>\n",
       "      <th>1</th>\n",
       "      <td>2</td>\n",
       "      <td>67629</td>\n",
       "      <td>0.064</td>\n",
       "      <td>0.63</td>\n",
       "      <td>0.914</td>\n",
       "      <td>0.04</td>\n",
       "      <td>0.06</td>\n",
       "      <td>0.422</td>\n",
       "      <td>0.42</td>\n",
       "      <td>0.53</td>\n",
       "      <td>1.656700</td>\n",
       "    </tr>\n",
       "    <tr>\n",
       "      <th>2</th>\n",
       "      <td>3</td>\n",
       "      <td>49254</td>\n",
       "      <td>0.063</td>\n",
       "      <td>0.90</td>\n",
       "      <td>0.842</td>\n",
       "      <td>0.10</td>\n",
       "      <td>0.09</td>\n",
       "      <td>0.455</td>\n",
       "      <td>0.49</td>\n",
       "      <td>0.50</td>\n",
       "      <td>3.413928</td>\n",
       "    </tr>\n",
       "    <tr>\n",
       "      <th>3</th>\n",
       "      <td>4</td>\n",
       "      <td>44922</td>\n",
       "      <td>0.052</td>\n",
       "      <td>0.69</td>\n",
       "      <td>0.824</td>\n",
       "      <td>0.04</td>\n",
       "      <td>0.12</td>\n",
       "      <td>0.458</td>\n",
       "      <td>0.26</td>\n",
       "      <td>0.60</td>\n",
       "      <td>0.869209</td>\n",
       "    </tr>\n",
       "    <tr>\n",
       "      <th>4</th>\n",
       "      <td>5</td>\n",
       "      <td>60487</td>\n",
       "      <td>0.059</td>\n",
       "      <td>0.97</td>\n",
       "      <td>0.806</td>\n",
       "      <td>0.13</td>\n",
       "      <td>0.09</td>\n",
       "      <td>0.471</td>\n",
       "      <td>0.61</td>\n",
       "      <td>0.33</td>\n",
       "      <td>2.397986</td>\n",
       "    </tr>\n",
       "  </tbody>\n",
       "</table>\n",
       "</div>"
      ],
      "text/plain": [
       "   region  median_household_income  share_unemployed_seasonal  \\\n",
       "0       1                    42278                      0.060   \n",
       "1       2                    67629                      0.064   \n",
       "2       3                    49254                      0.063   \n",
       "3       4                    44922                      0.052   \n",
       "4       5                    60487                      0.059   \n",
       "\n",
       "   share_population_in_metro_areas  share_population_with_high_school_degree  \\\n",
       "0                             0.64                                     0.821   \n",
       "1                             0.63                                     0.914   \n",
       "2                             0.90                                     0.842   \n",
       "3                             0.69                                     0.824   \n",
       "4                             0.97                                     0.806   \n",
       "\n",
       "   share_non_citizen  share_white_poverty  gini_index  share_non_white  \\\n",
       "0               0.02                 0.12       0.472             0.35   \n",
       "1               0.04                 0.06       0.422             0.42   \n",
       "2               0.10                 0.09       0.455             0.49   \n",
       "3               0.04                 0.12       0.458             0.26   \n",
       "4               0.13                 0.09       0.471             0.61   \n",
       "\n",
       "   share_voters_voted_to_the_right  avg_biascrimes_per_100k  \n",
       "0                             0.63                 1.806410  \n",
       "1                             0.53                 1.656700  \n",
       "2                             0.50                 3.413928  \n",
       "3                             0.60                 0.869209  \n",
       "4                             0.33                 2.397986  "
      ]
     },
     "execution_count": 4,
     "metadata": {},
     "output_type": "execute_result"
    }
   ],
   "source": [
    "df_merged.head(5)"
   ]
  },
  {
   "cell_type": "code",
   "execution_count": 5,
   "id": "9a1f31a7",
   "metadata": {},
   "outputs": [],
   "source": [
    "# checking % of missing values in columns\n",
    "def check_missing_values(df):\n",
    "    for col in df.columns:\n",
    "        pct_missing = np.mean(df[col].isnull())\n",
    "        print('{} - {}%'.format(col, round(pct_missing*100)))"
   ]
  },
  {
   "cell_type": "markdown",
   "id": "2f0b3c00",
   "metadata": {},
   "source": [
    "### Cleaning the merged data"
   ]
  },
  {
   "cell_type": "code",
   "execution_count": 6,
   "id": "51b2b676",
   "metadata": {},
   "outputs": [
    {
     "name": "stdout",
     "output_type": "stream",
     "text": [
      "region - 0%\n",
      "median_household_income - 0%\n",
      "share_unemployed_seasonal - 0%\n",
      "share_population_in_metro_areas - 0%\n",
      "share_population_with_high_school_degree - 0%\n",
      "share_non_citizen - 6%\n",
      "share_white_poverty - 0%\n",
      "gini_index - 0%\n",
      "share_non_white - 0%\n",
      "share_voters_voted_to_the_right - 0%\n",
      "avg_biascrimes_per_100k - 2%\n"
     ]
    }
   ],
   "source": [
    "check_missing_values(df_merged)"
   ]
  },
  {
   "cell_type": "code",
   "execution_count": 7,
   "id": "47f37b92",
   "metadata": {},
   "outputs": [],
   "source": [
    "# then, drop every row (axis=0) which has \"any\" Null value in it.\n",
    "dropped_df = df_merged.dropna(axis = 0, how = 'any')\n",
    "# alternative - missing value imputation ??\n",
    "\n",
    "# remove an unnecessary column\n",
    "if \"share_voters_voted_to_the_right\" in dropped_df:\n",
    "    dropped_df = dropped_df.drop('share_voters_voted_to_the_right', axis=1)"
   ]
  },
  {
   "cell_type": "code",
   "execution_count": 8,
   "id": "7623c622",
   "metadata": {},
   "outputs": [
    {
     "name": "stdout",
     "output_type": "stream",
     "text": [
      "region - 0%\n",
      "median_household_income - 0%\n",
      "share_unemployed_seasonal - 0%\n",
      "share_population_in_metro_areas - 0%\n",
      "share_population_with_high_school_degree - 0%\n",
      "share_non_citizen - 6%\n",
      "share_white_poverty - 0%\n",
      "gini_index - 0%\n",
      "share_non_white - 0%\n",
      "share_voters_voted_to_the_right - 0%\n",
      "avg_biascrimes_per_100k - 2%\n"
     ]
    },
    {
     "data": {
      "text/plain": [
       "(47, 10)"
      ]
     },
     "execution_count": 8,
     "metadata": {},
     "output_type": "execute_result"
    }
   ],
   "source": [
    "check_missing_values(dropped_df)\n",
    "    \n",
    "# check the updated rows and columns count of the dropped dataframe\n",
    "dropped_df.shape"
   ]
  },
  {
   "cell_type": "code",
   "execution_count": 9,
   "id": "13801be9",
   "metadata": {},
   "outputs": [
    {
     "data": {
      "text/plain": [
       "region                                     -0.029409\n",
       "median_household_income                     0.298552\n",
       "share_unemployed_seasonal                  -0.012287\n",
       "share_population_in_metro_areas            -0.841545\n",
       "share_population_with_high_school_degree   -0.290555\n",
       "share_non_citizen                           0.647971\n",
       "share_white_poverty                         0.682062\n",
       "gini_index                                  0.969180\n",
       "share_non_white                             0.405428\n",
       "avg_biascrimes_per_100k                     2.682438\n",
       "dtype: float64"
      ]
     },
     "execution_count": 9,
     "metadata": {},
     "output_type": "execute_result"
    }
   ],
   "source": [
    "dropped_df.skew()"
   ]
  },
  {
   "cell_type": "markdown",
   "id": "9ad06361",
   "metadata": {},
   "source": [
    "Skewness values for all variables are between -0.84 and 2.6. Skewed to the right. There might be outliers in avg_biascrimes_per_100k variable. "
   ]
  },
  {
   "cell_type": "code",
   "execution_count": 10,
   "id": "8dd21b8d",
   "metadata": {},
   "outputs": [
    {
     "data": {
      "text/html": [
       "<div>\n",
       "<style scoped>\n",
       "    .dataframe tbody tr th:only-of-type {\n",
       "        vertical-align: middle;\n",
       "    }\n",
       "\n",
       "    .dataframe tbody tr th {\n",
       "        vertical-align: top;\n",
       "    }\n",
       "\n",
       "    .dataframe thead th {\n",
       "        text-align: right;\n",
       "    }\n",
       "</style>\n",
       "<table border=\"1\" class=\"dataframe\">\n",
       "  <thead>\n",
       "    <tr style=\"text-align: right;\">\n",
       "      <th></th>\n",
       "      <th>region</th>\n",
       "      <th>median_household_income</th>\n",
       "      <th>share_unemployed_seasonal</th>\n",
       "      <th>share_population_in_metro_areas</th>\n",
       "      <th>share_population_with_high_school_degree</th>\n",
       "      <th>share_non_citizen</th>\n",
       "      <th>share_white_poverty</th>\n",
       "      <th>gini_index</th>\n",
       "      <th>share_non_white</th>\n",
       "      <th>avg_biascrimes_per_100k</th>\n",
       "    </tr>\n",
       "  </thead>\n",
       "  <tbody>\n",
       "    <tr>\n",
       "      <th>count</th>\n",
       "      <td>47.000000</td>\n",
       "      <td>47.000000</td>\n",
       "      <td>47.000000</td>\n",
       "      <td>47.000000</td>\n",
       "      <td>47.000000</td>\n",
       "      <td>47.000000</td>\n",
       "      <td>47.000000</td>\n",
       "      <td>47.000000</td>\n",
       "      <td>47.000000</td>\n",
       "      <td>47.000000</td>\n",
       "    </tr>\n",
       "    <tr>\n",
       "      <th>mean</th>\n",
       "      <td>26.106383</td>\n",
       "      <td>55423.340426</td>\n",
       "      <td>0.050085</td>\n",
       "      <td>0.765957</td>\n",
       "      <td>0.868426</td>\n",
       "      <td>0.054043</td>\n",
       "      <td>0.090851</td>\n",
       "      <td>0.454511</td>\n",
       "      <td>0.310426</td>\n",
       "      <td>2.379352</td>\n",
       "    </tr>\n",
       "    <tr>\n",
       "      <th>std</th>\n",
       "      <td>15.151746</td>\n",
       "      <td>8817.840427</td>\n",
       "      <td>0.010523</td>\n",
       "      <td>0.177233</td>\n",
       "      <td>0.033165</td>\n",
       "      <td>0.031184</td>\n",
       "      <td>0.024122</td>\n",
       "      <td>0.021235</td>\n",
       "      <td>0.149389</td>\n",
       "      <td>1.744572</td>\n",
       "    </tr>\n",
       "    <tr>\n",
       "      <th>min</th>\n",
       "      <td>1.000000</td>\n",
       "      <td>39552.000000</td>\n",
       "      <td>0.028000</td>\n",
       "      <td>0.310000</td>\n",
       "      <td>0.799000</td>\n",
       "      <td>0.010000</td>\n",
       "      <td>0.040000</td>\n",
       "      <td>0.419000</td>\n",
       "      <td>0.060000</td>\n",
       "      <td>0.266941</td>\n",
       "    </tr>\n",
       "    <tr>\n",
       "      <th>25%</th>\n",
       "      <td>13.500000</td>\n",
       "      <td>48657.000000</td>\n",
       "      <td>0.042500</td>\n",
       "      <td>0.640000</td>\n",
       "      <td>0.840500</td>\n",
       "      <td>0.030000</td>\n",
       "      <td>0.075000</td>\n",
       "      <td>0.440000</td>\n",
       "      <td>0.200000</td>\n",
       "      <td>1.303706</td>\n",
       "    </tr>\n",
       "    <tr>\n",
       "      <th>50%</th>\n",
       "      <td>27.000000</td>\n",
       "      <td>55173.000000</td>\n",
       "      <td>0.051000</td>\n",
       "      <td>0.800000</td>\n",
       "      <td>0.874000</td>\n",
       "      <td>0.040000</td>\n",
       "      <td>0.090000</td>\n",
       "      <td>0.455000</td>\n",
       "      <td>0.280000</td>\n",
       "      <td>1.937083</td>\n",
       "    </tr>\n",
       "    <tr>\n",
       "      <th>75%</th>\n",
       "      <td>38.500000</td>\n",
       "      <td>60719.000000</td>\n",
       "      <td>0.057500</td>\n",
       "      <td>0.900000</td>\n",
       "      <td>0.897000</td>\n",
       "      <td>0.080000</td>\n",
       "      <td>0.100000</td>\n",
       "      <td>0.466500</td>\n",
       "      <td>0.420000</td>\n",
       "      <td>3.168247</td>\n",
       "    </tr>\n",
       "    <tr>\n",
       "      <th>max</th>\n",
       "      <td>51.000000</td>\n",
       "      <td>76165.000000</td>\n",
       "      <td>0.073000</td>\n",
       "      <td>1.000000</td>\n",
       "      <td>0.918000</td>\n",
       "      <td>0.130000</td>\n",
       "      <td>0.170000</td>\n",
       "      <td>0.532000</td>\n",
       "      <td>0.630000</td>\n",
       "      <td>10.953480</td>\n",
       "    </tr>\n",
       "  </tbody>\n",
       "</table>\n",
       "</div>"
      ],
      "text/plain": [
       "          region  median_household_income  share_unemployed_seasonal  \\\n",
       "count  47.000000                47.000000                  47.000000   \n",
       "mean   26.106383             55423.340426                   0.050085   \n",
       "std    15.151746              8817.840427                   0.010523   \n",
       "min     1.000000             39552.000000                   0.028000   \n",
       "25%    13.500000             48657.000000                   0.042500   \n",
       "50%    27.000000             55173.000000                   0.051000   \n",
       "75%    38.500000             60719.000000                   0.057500   \n",
       "max    51.000000             76165.000000                   0.073000   \n",
       "\n",
       "       share_population_in_metro_areas  \\\n",
       "count                        47.000000   \n",
       "mean                          0.765957   \n",
       "std                           0.177233   \n",
       "min                           0.310000   \n",
       "25%                           0.640000   \n",
       "50%                           0.800000   \n",
       "75%                           0.900000   \n",
       "max                           1.000000   \n",
       "\n",
       "       share_population_with_high_school_degree  share_non_citizen  \\\n",
       "count                                 47.000000          47.000000   \n",
       "mean                                   0.868426           0.054043   \n",
       "std                                    0.033165           0.031184   \n",
       "min                                    0.799000           0.010000   \n",
       "25%                                    0.840500           0.030000   \n",
       "50%                                    0.874000           0.040000   \n",
       "75%                                    0.897000           0.080000   \n",
       "max                                    0.918000           0.130000   \n",
       "\n",
       "       share_white_poverty  gini_index  share_non_white  \\\n",
       "count            47.000000   47.000000        47.000000   \n",
       "mean              0.090851    0.454511         0.310426   \n",
       "std               0.024122    0.021235         0.149389   \n",
       "min               0.040000    0.419000         0.060000   \n",
       "25%               0.075000    0.440000         0.200000   \n",
       "50%               0.090000    0.455000         0.280000   \n",
       "75%               0.100000    0.466500         0.420000   \n",
       "max               0.170000    0.532000         0.630000   \n",
       "\n",
       "       avg_biascrimes_per_100k  \n",
       "count                47.000000  \n",
       "mean                  2.379352  \n",
       "std                   1.744572  \n",
       "min                   0.266941  \n",
       "25%                   1.303706  \n",
       "50%                   1.937083  \n",
       "75%                   3.168247  \n",
       "max                  10.953480  "
      ]
     },
     "execution_count": 10,
     "metadata": {},
     "output_type": "execute_result"
    }
   ],
   "source": [
    "dropped_df.describe()"
   ]
  },
  {
   "cell_type": "markdown",
   "id": "45c9f0b8",
   "metadata": {},
   "source": [
    "### Notes\n",
    "This dataset is small, so take the whole dataset for furture analysis. \\\n",
    "For larger datasets, we could consider to extract the samples from the whole populations using Bootstrapping, sampling methods. "
   ]
  },
  {
   "cell_type": "markdown",
   "id": "f5f880bf",
   "metadata": {},
   "source": [
    "### Investigating the effects of household income on levels of bias crimes"
   ]
  },
  {
   "cell_type": "code",
   "execution_count": 11,
   "id": "6e15f8b1",
   "metadata": {},
   "outputs": [
    {
     "data": {
      "text/plain": [
       "<AxesSubplot:xlabel='avg_biascrimes_per_100k'>"
      ]
     },
     "execution_count": 11,
     "metadata": {},
     "output_type": "execute_result"
    },
    {
     "data": {
      "image/png": "[encoded data removed]",
      "text/plain": [
       "<Figure size 720x432 with 1 Axes>"
      ]
     },
     "metadata": {
      "needs_background": "light"
     },
     "output_type": "display_data"
    }
   ],
   "source": [
    "# detecting outliers on levels of bias crimes\n",
    "sns.boxplot(x = dropped_df['avg_biascrimes_per_100k'])"
   ]
  },
  {
   "cell_type": "markdown",
   "id": "28d53d0c",
   "metadata": {},
   "source": [
    "#### The correlation between two quantitative variables graphically\n",
    "- dependent variable: avg_biascrimes_per_100k\n",
    "- independent variable(s): median_household_income"
   ]
  },
  {
   "cell_type": "code",
   "execution_count": 12,
   "id": "ccd767d1",
   "metadata": {},
   "outputs": [
    {
     "data": {
      "image/png": "[encoded data removed]",
      "text/plain": [
       "<Figure size 720x432 with 1 Axes>"
      ]
     },
     "metadata": {},
     "output_type": "display_data"
    },
    {
     "name": "stdout",
     "output_type": "stream",
     "text": [
      "\n",
      "# Interpretation of the plot (with outliers)\n",
      "The regression line is going up to the right slightly. The data points are scattered near the regression line(with one outlier where the levels of crime is greater than 10) with a slight positive pattern. \n",
      "According to the data trend, the two variables might depend on each other positively which means the household incomes might have *some effects* on the levels of crimes but probably not strongly. \n",
      "\n",
      "\n",
      "\n",
      " ##Alternative approach (without outliers)\n"
     ]
    },
    {
     "data": {
      "image/png": "[encoded data removed]",
      "text/plain": [
       "<Figure size 720x432 with 1 Axes>"
      ]
     },
     "metadata": {},
     "output_type": "display_data"
    }
   ],
   "source": [
    "# seaborn’s regplot(), with outlier data points\n",
    "# alternative - lmplot()[combines regplot() and FacetGrid]\n",
    "sns.set_theme(color_codes = True)\n",
    "sns.set_context(\"paper\", rc={\"font.size\":12,\"axes.titlesize\":14,\"axes.labelsize\":12})  \n",
    "sns.regplot(x = 'median_household_income',\n",
    "           y = 'avg_biascrimes_per_100k',\n",
    "           data = dropped_df)\n",
    "plt.title('A plot to show the correlation between the median household income and the levels of bias crimes(with outliers)   ')\n",
    "plt.xlabel('Household income')\n",
    "plt.ylabel('Levels of bias crimes')\n",
    "\n",
    "# show the plot\n",
    "plt.show()\n",
    "\n",
    "print(\"\"\"\n",
    "# Interpretation of the plot (with outliers)\n",
    "The regression line is going up to the right slightly. The data points are scattered near the regression line(with one outlier where the levels of crime is greater than 10) with a slight positive pattern. \n",
    "According to the data trend, the two variables might depend on each other positively which means the household incomes might have *some effects* on the levels of crimes but probably not strongly. \n",
    "\"\"\")\n",
    "\n",
    "##############################################################################\n",
    "print(\"\\n\\n ##Alternative approach (without outliers)\")\n",
    "\n",
    "# obviously, there is one outlier data point where level of crime is greater than 10, so removed it \n",
    "without_outlier_df = dropped_df[dropped_df['avg_biascrimes_per_100k'] < 10]\n",
    "#without_outlier_df.shape # (46, 10)\n",
    "\n",
    "# seaborn’s regplot(), without outliers\n",
    "sns.set_theme(color_codes = True)\n",
    "sns.set_context(\"paper\", rc={\"font.size\":12,\"axes.titlesize\":14,\"axes.labelsize\":12})   \n",
    "sns.regplot(x = 'median_household_income', \n",
    "           y = 'avg_biascrimes_per_100k',\n",
    "           data = without_outlier_df)\n",
    "plt.title('A plot to show the correlation between the median household income and the level of bias crimes(without outliers)')\n",
    "plt.xlabel('Household income')\n",
    "plt.ylabel('Levels of bias crimes')\n",
    "\n",
    "# show the plot\n",
    "plt.show()"
   ]
  },
  {
   "cell_type": "markdown",
   "id": "4bdd6d89",
   "metadata": {},
   "source": [
    "### Test the hypothesis that household income has no effect on levels of bias crime\n",
    "\n",
    "Setting the Hypothesis as follows:\n",
    "\n",
    "**H0**(NULL Hypothesis) - household income has **no effect** on levels of bias crime (the two variables are independent) \\\n",
    "**H1**(Alternative Hypothesis) - household income has effect on levels of bias crime (there is a dependency between the variables)\n",
    "\n",
    "alpha - 0.05 (95% confidence interval)\n",
    "\n",
    "<i>Reject or Accept the NULL hopothesis ?"
   ]
  },
  {
   "cell_type": "code",
   "execution_count": 13,
   "id": "91cf7caf",
   "metadata": {},
   "outputs": [
    {
     "name": "stdout",
     "output_type": "stream",
     "text": [
      "Pearsons correlation: 0.296\n",
      "p-value: 0.044\n",
      "Probably dependent(has effect)\n",
      "\n",
      "#Interpretation of the result (with outliers)\n",
      "Based on the calculated result, the correlation coefficient value is around 0.3 which indicates that there is a weak positive relationship between household income and levels of bias crimes.  To know in more detail that these two variables are significantly correlated with each other, we can check their p-values which can be calculated through pearsonr() library. \n",
      "When p-value > 0.05, we accept H0(NULL Hypothesis).  Otherwise, we will accept H1(Alternative Hypothesis). \n",
      "\n",
      "Now the calculated p-value is 0.044 which is less than 0.05(alpha), therefore we will reject Null Hypothesis and accept an alternative hypothesis which says \"Probably dependent(has effect)\" which means the household income has effect on levels of bias crimes.\n",
      "\n",
      "\n",
      "\n",
      "##Alternative approach (without outliers)\n",
      "Pearsons correlation: 0.206\n",
      "p-value: 0.170\n",
      "Probably independent(no effect)\n",
      "\n",
      "It means household income has no effect on levels of bias crimes.\n",
      "\n"
     ]
    }
   ],
   "source": [
    "# Pearson’s Correlation Coefficient between two variables (with outliers)\n",
    "corr, p = pearsonr(dropped_df['median_household_income'], dropped_df['avg_biascrimes_per_100k'])\n",
    "print('Pearsons correlation: %.3f' % corr)\n",
    "print('p-value: %.3f' % (p))\n",
    "\n",
    "# Hypothesis Testing (with outliers) \n",
    "if p > 0.05:\n",
    "    print('Probably independent(no effect)')\n",
    "else:\n",
    "    print('Probably dependent(has effect)')\n",
    "    \n",
    "print(\"\"\"\n",
    "#Interpretation of the result (with outliers)\n",
    "Based on the calculated result, the correlation coefficient value is around 0.3 which indicates that there is a weak positive relationship between household income and levels of bias crimes.  To know in more detail that these two variables are significantly correlated with each other, we can check their p-values which can be calculated through pearsonr() library. \\nWhen p-value > 0.05, we accept H0(NULL Hypothesis).  Otherwise, we will accept H1(Alternative Hypothesis). \\n\n",
    "Now the calculated p-value is 0.044 which is less than 0.05(alpha), therefore we will reject Null Hypothesis and accept an alternative hypothesis which says \"Probably dependent(has effect)\" which means the household income has effect on levels of bias crimes.\n",
    "\"\"\")\n",
    "\n",
    "##############################################################################   \n",
    "print(\"\\n\\n##Alternative approach (without outliers)\")\n",
    "\n",
    "# Pearson’s Correlation Coefficient between two variables (without outliers)\n",
    "corr, p = pearsonr(without_outlier_df['median_household_income'], without_outlier_df['avg_biascrimes_per_100k'])\n",
    "print('Pearsons correlation: %.3f' % corr)\n",
    "print('p-value: %.3f' % (p))\n",
    "\n",
    "# Hypothesis Testing (without outliers)\n",
    "if p > 0.05:\n",
    "    print('Probably independent(no effect)')\n",
    "else:\n",
    "    print('Probably dependent(has effect)')\n",
    "    \n",
    "print(\"\"\"\n",
    "It means household income has no effect on levels of bias crimes.\n",
    "\"\"\")"
   ]
  },
  {
   "cell_type": "markdown",
   "id": "8718a0b2",
   "metadata": {},
   "source": [
    "### Investigating the effects of urbanisation on levels of bias crimes"
   ]
  },
  {
   "cell_type": "code",
   "execution_count": 14,
   "id": "3d54395a",
   "metadata": {},
   "outputs": [
    {
     "data": {
      "image/png": "[encoded data removed]",
      "text/plain": [
       "<Figure size 720x432 with 1 Axes>"
      ]
     },
     "metadata": {},
     "output_type": "display_data"
    },
    {
     "name": "stdout",
     "output_type": "stream",
     "text": [
      "\n",
      "#Interpretation of the plot (with outliers)\n",
      "The data points are scattered near the regression line(with one outlier where the levels of crime is greater than 10) with no pattern.\n",
      "According to the data trend, the two variables might not depend on each other which means the urbanisation might not have a significant effect on levels of crimes.\n",
      "\n",
      "\n",
      "\n",
      " ##Alternative approach (without outliers)\n"
     ]
    },
    {
     "data": {
      "image/png": "[encoded data removed]",
      "text/plain": [
       "<Figure size 720x432 with 1 Axes>"
      ]
     },
     "metadata": {},
     "output_type": "display_data"
    }
   ],
   "source": [
    "# investigating the correlation between two quantitative variables graphically\n",
    "# seaborn’s regplot(), with outlier data points\n",
    "sns.set_theme(color_codes = True)\n",
    "sns.set_context(\"paper\", rc={\"font.size\":12,\"axes.titlesize\":14,\"axes.labelsize\":12})  \n",
    "sns.regplot(x = 'share_population_in_metro_areas', \n",
    "           y = 'avg_biascrimes_per_100k',\n",
    "           data = dropped_df)\n",
    "plt.title('A plot to show the correlation between the urbanisation and the levels of bias crimes(with outliers)   ')\n",
    "plt.xlabel('Share of the population in metro areas')\n",
    "plt.ylabel('Levels of bias crimes')\n",
    "\n",
    "# show the plot\n",
    "plt.show()\n",
    "\n",
    "print(\"\"\"\n",
    "#Interpretation of the plot (with outliers)\n",
    "The data points are scattered near the regression line(with one outlier where the levels of crime is greater than 10) with no pattern.\n",
    "According to the data trend, the two variables might not depend on each other which means the urbanisation might not have a significant effect on levels of crimes.\n",
    "\"\"\")\n",
    "\n",
    "##############################################################################\n",
    "print(\"\\n\\n ##Alternative approach (without outliers)\")\n",
    "\n",
    "# seaborn’s regplot(), without outliers\n",
    "sns.set_theme(color_codes = True)\n",
    "sns.set_context(\"paper\", rc={\"font.size\":12,\"axes.titlesize\":14,\"axes.labelsize\":12})   \n",
    "sns.regplot(x = 'share_population_in_metro_areas', \n",
    "           y = 'avg_biascrimes_per_100k',\n",
    "           data = without_outlier_df)\n",
    "plt.title('A plot to show the correlation between the urbanisation and the levels of bias crimes(without outliers)')\n",
    "plt.xlabel('Share of the population in metro areas')\n",
    "plt.ylabel('Levels of bias crimes')\n",
    "\n",
    "# show the plot\n",
    "plt.show()"
   ]
  },
  {
   "cell_type": "markdown",
   "id": "84bfbc94",
   "metadata": {},
   "source": [
    "### Testing the hypothesis that urbanisation has a significant effect on levels of bias crimes\n",
    "\n",
    "Setting the Hypothesis as follows:\n",
    "\n",
    "**H0**(NULL Hypothesis) - urbanisation has **no effect** on levels of bias crime (the two variables are independent)\n",
    "**H1**(Alternative Hypothesis) - urbanisation has effect on levels of bias crime (there is a dependency between the variables)\n",
    "\n",
    "alpha - 0.05 (95% confidence interval)\n",
    "\n",
    "<i> Reject or Accept the NULL hopothesis ?"
   ]
  },
  {
   "cell_type": "code",
   "execution_count": 15,
   "id": "b73c61fd",
   "metadata": {},
   "outputs": [
    {
     "name": "stdout",
     "output_type": "stream",
     "text": [
      "Pearsons correlation: 0.209\n",
      "p-value: 0.158\n",
      "Probably independent(no effect)\n",
      "\n",
      "#Interpretation of the result (with outliers)\n",
      "Based on the calculated result, the correlation coefficient value is around 0.2 which indicates that there might be a weak positive relationship between urbanisation and levels of bias crimes.  To know in more detail that these two variables are significantly correlated with each other, we can check their p-values which could be calculated through pearsonr() library.   \n",
      "When p-value > 0.05, we accept H0(NULL Hypothesis).  Otherwise, we will accept H1(Alternative Hypothesis). \n",
      "\n",
      "Now the calculated p-value is 0.158 which is greater than 0.05, therefore we will accept the Null Hypothesis which says \"Probably independent(no effect)\" which means the urbanisation has no effect on levels of bias crimes.\n",
      "\n",
      "\n",
      "\n",
      "##Alternative approach (without outliers)\n",
      "Pearsons correlation: 0.098\n",
      "p-value: 0.518\n",
      "Probably independent(no effect)\n",
      "\n",
      "It means urbanisation has no effect on the levels of bias crimes.\n",
      "\n"
     ]
    }
   ],
   "source": [
    "# Pearson’s Correlation Coefficient between two variables (with outliers)\n",
    "corr, p = pearsonr(dropped_df['share_population_in_metro_areas'], dropped_df['avg_biascrimes_per_100k'])\n",
    "print('Pearsons correlation: %.3f' % corr)\n",
    "print('p-value: %.3f' % (p))\n",
    "\n",
    "# Hypothesis Testing (with outliers) \n",
    "if p > 0.05:\n",
    "    print('Probably independent(no effect)')\n",
    "else:\n",
    "    print('Probably dependent(has effect)')\n",
    "    \n",
    "print(\"\"\"\n",
    "#Interpretation of the result (with outliers)\n",
    "Based on the calculated result, the correlation coefficient value is around 0.2 which indicates that there might be a weak positive relationship between urbanisation and levels of bias crimes.  To know in more detail that these two variables are significantly correlated with each other, we can check their p-values which could be calculated through pearsonr() library.   \\nWhen p-value > 0.05, we accept H0(NULL Hypothesis).  Otherwise, we will accept H1(Alternative Hypothesis). \\n\n",
    "Now the calculated p-value is 0.158 which is greater than 0.05, therefore we will accept the Null Hypothesis which says \"Probably independent(no effect)\" which means the urbanisation has no effect on levels of bias crimes.\n",
    "\"\"\")\n",
    "\n",
    "##############################################################################   \n",
    "print(\"\\n\\n##Alternative approach (without outliers)\")\n",
    "# Pearson’s Correlation Coefficient between two variables (without outliers)\n",
    "corr, p = pearsonr(without_outlier_df['share_population_in_metro_areas'], without_outlier_df['avg_biascrimes_per_100k'])\n",
    "print('Pearsons correlation: %.3f' % corr)\n",
    "print('p-value: %.3f' % (p))\n",
    "\n",
    "# Hypothesis Testing (without outliers)\n",
    "if p > 0.05:\n",
    "    print('Probably independent(no effect)')\n",
    "else:\n",
    "    print('Probably dependent(has effect)')\n",
    "    \n",
    "print(\"\"\"\n",
    "It means urbanisation has no effect on the levels of bias crimes.\n",
    "\"\"\")"
   ]
  },
  {
   "cell_type": "markdown",
   "id": "eefbd045",
   "metadata": {},
   "source": [
    "### Some insights \n",
    "Scenario I (at 95% confidence interval) \\\n",
    "<i>Household income has no effect on levels of bias crime \n",
    "- with outliers (False)\n",
    "- without outliers (True)\n",
    "\n",
    "Scenario II (at 95% confidence interval) \\\n",
    "<i>Urbanisation has a significant effect on levels of bias crimes\n",
    "- with outliers (False)\n",
    "- without outliers (False)"
   ]
  },
  {
   "cell_type": "markdown",
   "id": "1f6fc48a",
   "metadata": {},
   "source": [
    "Outliers can affect the outcome of an analysis. There are two types of outliers called **univariate and multivariate**.  Among them, I analyzed the dataset with univariate outliers which are extreme values in the distribution of a specific variable.   <i>For example, a univariate outlier could be a human age measurement of 120 years.  \n",
    "\n",
    "There are two steps in analyzing the outliers,  \n",
    "- Analyzing\n",
    "    - detect\n",
    "    - remove (removing the outliers could lose the data and which can affect some further data analysis)\n",
    "    - analyse again\n",
    "\n",
    "- Handling\n",
    "    - Log transformation on the variable which have outliers (workaround ?)\n",
    "    - ..."
   ]
  },
  {
   "cell_type": "code",
   "execution_count": 16,
   "id": "354da8b1",
   "metadata": {},
   "outputs": [
    {
     "data": {
      "text/plain": [
       "Text(0.5, 1.0, 'Log-Transformed Bias Crimes')"
      ]
     },
     "execution_count": 16,
     "metadata": {},
     "output_type": "execute_result"
    },
    {
     "data": {
      "image/png": "[encoded data removed]",
      "text/plain": [
       "<Figure size 720x432 with 2 Axes>"
      ]
     },
     "metadata": {},
     "output_type": "display_data"
    }
   ],
   "source": [
    "#create log-transformed data\n",
    "dropped_df['log_avg_biascrimes_per_100k'] = np.log(dropped_df['avg_biascrimes_per_100k'])\n",
    "\n",
    "#define grid of plots\n",
    "fig, axs = plt.subplots(nrows=1, ncols=2)\n",
    "\n",
    "#create histograms\n",
    "axs[0].hist(dropped_df['avg_biascrimes_per_100k'], edgecolor='black')\n",
    "# axs[1].hist(without_outlier_df['avg_biascrimes_per_100k'], edgecolor='black')\n",
    "axs[1].hist(dropped_df['log_avg_biascrimes_per_100k'], edgecolor='black')\n",
    "\n",
    "\n",
    "#add title to each histogram\n",
    "axs[0].set_title('Original Bias Crimes')\n",
    "# axs[1].set_title('Original Bias Crimes (without outliers)')\n",
    "axs[1].set_title('Log-Transformed Bias Crimes')"
   ]
  },
  {
   "cell_type": "markdown",
   "id": "233937d7",
   "metadata": {},
   "source": [
    "Data analysis after log transformation ???\n",
    "\n",
    "to be continued ......"
   ]
  },
  {
   "cell_type": "code",
   "execution_count": 17,
   "id": "b51b4bc0",
   "metadata": {},
   "outputs": [
    {
     "name": "stdout",
     "output_type": "stream",
     "text": [
      "                               OLS Regression Results                              \n",
      "===================================================================================\n",
      "Dep. Variable:     avg_biascrimes_per_100k   R-squared:                       0.493\n",
      "Model:                                 OLS   Adj. R-squared:                  0.386\n",
      "Method:                      Least Squares   F-statistic:                     4.611\n",
      "Date:                     Tue, 10 Jan 2023   Prob (F-statistic):           0.000544\n",
      "Time:                             04:08:38   Log-Likelihood:                -76.398\n",
      "No. Observations:                       47   AIC:                             170.8\n",
      "Df Residuals:                           38   BIC:                             187.4\n",
      "Df Model:                                8                                         \n",
      "Covariance Type:                 nonrobust                                         \n",
      "============================================================================================================\n",
      "                                               coef    std err          t      P>|t|      [0.025      0.975]\n",
      "------------------------------------------------------------------------------------------------------------\n",
      "const                                      -50.0445     14.815     -3.378      0.002     -80.036     -20.053\n",
      "median_household_income                   4.061e-05   4.93e-05      0.824      0.415   -5.92e-05       0.000\n",
      "share_unemployed_seasonal                   32.5128     27.219      1.194      0.240     -22.589      87.614\n",
      "share_population_in_metro_areas             -2.4520      1.916     -1.280      0.208      -6.331       1.427\n",
      "share_population_with_high_school_degree    24.4500     13.116      1.864      0.070      -2.103      51.003\n",
      "share_non_citizen                           21.5483     12.951      1.664      0.104      -4.669      47.766\n",
      "share_white_poverty                          7.1142     17.227      0.413      0.682     -27.760      41.989\n",
      "gini_index                                  62.5973     13.509      4.634      0.000      35.250      89.945\n",
      "share_non_white                             -3.4537      2.948     -1.172      0.249      -9.421       2.513\n",
      "==============================================================================\n",
      "Omnibus:                        1.128   Durbin-Watson:                   2.016\n",
      "Prob(Omnibus):                  0.569   Jarque-Bera (JB):                0.649\n",
      "Skew:                           0.282   Prob(JB):                        0.723\n",
      "Kurtosis:                       3.110   Cond. No.                     7.78e+06\n",
      "==============================================================================\n",
      "\n",
      "Notes:\n",
      "[1] Standard Errors assume that the covariance matrix of the errors is correctly specified.\n",
      "[2] The condition number is large, 7.78e+06. This might indicate that there are\n",
      "strong multicollinearity or other numerical problems.\n"
     ]
    }
   ],
   "source": [
    "# the summary of the regression\n",
    "import statsmodels.api as sm\n",
    "reg2 = sm.OLS(dropped_df[\"avg_biascrimes_per_100k\"], sm.add_constant(\n",
    "    dropped_df[['median_household_income',\n",
    "                'share_unemployed_seasonal',\n",
    "                'share_population_in_metro_areas',\n",
    "                'share_population_with_high_school_degree',\n",
    "                'share_non_citizen',\n",
    "                'share_white_poverty',\n",
    "                'gini_index',\n",
    "                'share_non_white'\n",
    "               ]])).fit()\n",
    "print(reg2.summary())"
   ]
  },
  {
   "cell_type": "markdown",
   "id": "dd8cecd4",
   "metadata": {},
   "source": [
    "Continue Dimension reduction (eg; PCA) >> "
   ]
  },
  {
   "cell_type": "code",
   "execution_count": null,
   "id": "8e160e49",
   "metadata": {},
   "outputs": [],
   "source": []
  }
 ],
 "metadata": {
  "kernelspec": {
   "display_name": "Python 3 (ipykernel)",
   "language": "python",
   "name": "python3"
  },
  "language_info": {
   "codemirror_mode": {
    "name": "ipython",
    "version": 3
   },
   "file_extension": ".py",
   "mimetype": "text/x-python",
   "name": "python",
   "nbconvert_exporter": "python",
   "pygments_lexer": "ipython3",
   "version": "3.9.7"
  }
 },
 "nbformat": 4,
 "nbformat_minor": 5
}
